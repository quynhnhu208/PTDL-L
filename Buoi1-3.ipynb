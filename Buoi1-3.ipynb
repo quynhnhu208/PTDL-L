{
 "cells": [
  {
   "cell_type": "code",
   "execution_count": 23,
   "metadata": {},
   "outputs": [],
   "source": [
    "from pyspark.sql import SparkSession"
   ]
  },
  {
   "cell_type": "code",
   "execution_count": 24,
   "metadata": {},
   "outputs": [],
   "source": [
    "spark = SparkSession.builder.appName(\"DataFrame - Operations\").getOrCreate()"
   ]
  },
  {
   "cell_type": "code",
   "execution_count": 25,
   "metadata": {},
   "outputs": [],
   "source": [
    "file_path = \"data/SampleData/stocks.csv\"\n",
    "df = spark.read.csv(file_path, header=True, inferSchema=True)"
   ]
  },
  {
   "cell_type": "code",
   "execution_count": 26,
   "metadata": {},
   "outputs": [
    {
     "name": "stdout",
     "output_type": "stream",
     "text": [
      "root\n",
      " |-- id: integer (nullable = true)\n",
      " |-- name: string (nullable = true)\n",
      " |-- category: string (nullable = true)\n",
      " |-- quantity: integer (nullable = true)\n",
      " |-- price: double (nullable = true)\n",
      "\n"
     ]
    }
   ],
   "source": [
    "df.printSchema()"
   ]
  },
  {
   "cell_type": "code",
   "execution_count": 27,
   "metadata": {},
   "outputs": [
    {
     "name": "stdout",
     "output_type": "stream",
     "text": [
      "+----------+-----------+-------+\n",
      "|      name|   category|  price|\n",
      "+----------+-----------+-------+\n",
      "|    iPhone|Electronics| 899.99|\n",
      "|   Macbook|Electronics|1299.99|\n",
      "|      iPad|Electronics| 499.99|\n",
      "|Samsung TV|Electronics| 799.99|\n",
      "|     LG TV|Electronics| 699.99|\n",
      "+----------+-----------+-------+\n",
      "only showing top 5 rows\n",
      "\n"
     ]
    }
   ],
   "source": [
    "selected_cols = df.select(\"name\", \"category\", \"price\")\n",
    "selected_cols.show(5)"
   ]
  },
  {
   "cell_type": "code",
   "execution_count": 28,
   "metadata": {},
   "outputs": [
    {
     "name": "stdout",
     "output_type": "stream",
     "text": [
      "+---+----------+-----------+--------+-------+-----------+\n",
      "| id|      name|   category|quantity|  price|   category|\n",
      "+---+----------+-----------+--------+-------+-----------+\n",
      "|  1|    iPhone|Electronics|      10| 899.99|Electronics|\n",
      "|  2|   Macbook|Electronics|       5|1299.99|Electronics|\n",
      "|  3|      iPad|Electronics|      15| 499.99|Electronics|\n",
      "|  4|Samsung TV|Electronics|       8| 799.99|Electronics|\n",
      "|  5|     LG TV|Electronics|      10| 699.99|Electronics|\n",
      "|  6|Nike Shoes|   Clothing|      30|  99.99|   Clothing|\n",
      "+---+----------+-----------+--------+-------+-----------+\n",
      "\n"
     ]
    }
   ],
   "source": [
    "other_df = df.select('id', 'category').limit(6)\n",
    "joined_data = df.join(other_df, 'id', 'inner')\n",
    "joined_data.show()"
   ]
  },
  {
   "cell_type": "code",
   "execution_count": 29,
   "metadata": {},
   "outputs": [
    {
     "name": "stdout",
     "output_type": "stream",
     "text": [
      "+---+--------------+--------+--------+-----+\n",
      "| id|          name|category|quantity|price|\n",
      "+---+--------------+--------+--------+-----+\n",
      "| 13|       Bananas|    Food|     150| 0.25|\n",
      "| 12|        Apples|    Food|     100|  0.5|\n",
      "| 14|       Oranges|    Food|     120| 0.75|\n",
      "| 15|Chicken Breast|    Food|      50| 3.99|\n",
      "| 16| Salmon Fillet|    Food|      30| 5.99|\n",
      "+---+--------------+--------+--------+-----+\n",
      "only showing top 5 rows\n",
      "\n"
     ]
    }
   ],
   "source": [
    "# Sort by column\n",
    "sorted_data = df.orderBy('price')\n",
    "sorted_data.show(5)"
   ]
  },
  {
   "cell_type": "code",
   "execution_count": 30,
   "metadata": {},
   "outputs": [
    {
     "name": "stdout",
     "output_type": "stream",
     "text": [
      "+---+--------------+--------+--------+-----+\n",
      "| id|          name|category|quantity|price|\n",
      "+---+--------------+--------+--------+-----+\n",
      "| 13|       Bananas|    Food|     150| 0.25|\n",
      "| 14|       Oranges|    Food|     120| 0.75|\n",
      "| 12|        Apples|    Food|     100|  0.5|\n",
      "| 29|       T-shirt|Clothing|      50|14.99|\n",
      "| 15|Chicken Breast|    Food|      50| 3.99|\n",
      "+---+--------------+--------+--------+-----+\n",
      "only showing top 5 rows\n",
      "\n"
     ]
    }
   ],
   "source": [
    "# Sort by multi columns\n",
    "from pyspark.sql.functions import col, desc\n",
    "sorted_data = df.orderBy(col('quantity').desc(), col('id').desc())\n",
    "sorted_data.show(5)"
   ]
  },
  {
   "cell_type": "code",
   "execution_count": 31,
   "metadata": {},
   "outputs": [
    {
     "name": "stdout",
     "output_type": "stream",
     "text": [
      "+-----------+\n",
      "|   category|\n",
      "+-----------+\n",
      "|       Food|\n",
      "|     Sports|\n",
      "|Electronics|\n",
      "|   Clothing|\n",
      "|  Furniture|\n",
      "|Accessories|\n",
      "+-----------+\n",
      "\n"
     ]
    }
   ],
   "source": [
    "distinct_rows = df.select('category').distinct()\n",
    "distinct_rows.show()"
   ]
  },
  {
   "cell_type": "code",
   "execution_count": 32,
   "metadata": {},
   "outputs": [
    {
     "name": "stdout",
     "output_type": "stream",
     "text": [
      "+---+----------+-------+\n",
      "| id|      name|  price|\n",
      "+---+----------+-------+\n",
      "|  1|    iPhone| 899.99|\n",
      "|  2|   Macbook|1299.99|\n",
      "|  3|      iPad| 499.99|\n",
      "|  4|Samsung TV| 799.99|\n",
      "|  5|     LG TV| 699.99|\n",
      "+---+----------+-------+\n",
      "only showing top 5 rows\n",
      "\n"
     ]
    }
   ],
   "source": [
    "dropped_cols = df.drop('quantity', 'category')\n",
    "dropped_cols.show(5)"
   ]
  },
  {
   "cell_type": "code",
   "execution_count": 33,
   "metadata": {},
   "outputs": [
    {
     "name": "stdout",
     "output_type": "stream",
     "text": [
      "+---+----------+-----------+--------+-------+-------+\n",
      "| id|      name|   category|quantity|  price|revenue|\n",
      "+---+----------+-----------+--------+-------+-------+\n",
      "|  1|    iPhone|Electronics|      10| 899.99| 8999.9|\n",
      "|  2|   Macbook|Electronics|       5|1299.99|6499.95|\n",
      "|  3|      iPad|Electronics|      15| 499.99|7499.85|\n",
      "|  4|Samsung TV|Electronics|       8| 799.99|6399.92|\n",
      "|  5|     LG TV|Electronics|      10| 699.99| 6999.9|\n",
      "+---+----------+-----------+--------+-------+-------+\n",
      "only showing top 5 rows\n",
      "\n"
     ]
    }
   ],
   "source": [
    "df_new_cols = df.withColumn(\"revenue\", df.quantity * df.price)\n",
    "df_new_cols.show(5)"
   ]
  },
  {
   "cell_type": "code",
   "execution_count": 35,
   "metadata": {},
   "outputs": [
    {
     "data": {
      "text/plain": [
       "DataFrame[id: int, name: string, category: string, p_quantity: int, p_price: double]"
      ]
     },
     "execution_count": 35,
     "metadata": {},
     "output_type": "execute_result"
    }
   ],
   "source": [
    "df_with_alias = df.withColumnsRenamed({\"quantity\": \"p_quantity\", \"price\": \"p_price\"})\n",
    "df_with_alias"
   ]
  },
  {
   "cell_type": "markdown",
   "metadata": {},
   "source": [
    "## Đo hiệu năng"
   ]
  },
  {
   "cell_type": "code",
   "execution_count": 36,
   "metadata": {},
   "outputs": [],
   "source": [
    "import pandas as pd\n",
    "import time\n",
    "\n",
    "file_path = \"data/SampleData/Online_Retail.csv\"\n",
    "\n",
    "# C1: Đo hiệu năng với Pandas\n",
    "start_time_pandas = time.time()\n",
    "try:\n",
    "    pandas_df = pd.read_csv(file_path)\n",
    "    pandas_process_time = time.time() - start_time_pandas\n",
    "except Exception as e:\n",
    "    pandas_process_time = None\n",
    "    pandas_error = str(e)\n",
    "\n",
    "# C2: Đo hiệu năng với Spark\n",
    "start_time_spark = time.time()\n",
    "try:\n",
    "    spark_df = spark.read.csv(file_path, header=True, inferSchema=True)\n",
    "    spark_process_time = time.time() - start_time_spark\n",
    "except Exception as e:\n",
    "    spark_process_time = None\n",
    "    spark_error = str(e)"
   ]
  },
  {
   "cell_type": "code",
   "execution_count": 37,
   "metadata": {},
   "outputs": [
    {
     "data": {
      "text/plain": [
       "{'Pandas Read Time (s)': \"'utf-8' codec can't decode byte 0xa3 in position 227179: invalid start byte\",\n",
       " 'Spark Read Time (s)': 0.34600186347961426}"
      ]
     },
     "execution_count": 37,
     "metadata": {},
     "output_type": "execute_result"
    }
   ],
   "source": [
    "results = {\n",
    "    \"Pandas Read Time (s)\": pandas_process_time if pandas_process_time else pandas_error,\n",
    "    \"Spark Read Time (s)\": spark_process_time if spark_process_time else spark_error\n",
    "}\n",
    "results "
   ]
  },
  {
   "cell_type": "code",
   "execution_count": null,
   "metadata": {},
   "outputs": [],
   "source": []
  }
 ],
 "metadata": {
  "kernelspec": {
   "display_name": "base",
   "language": "python",
   "name": "python3"
  },
  "language_info": {
   "codemirror_mode": {
    "name": "ipython",
    "version": 3
   },
   "file_extension": ".py",
   "mimetype": "text/x-python",
   "name": "python",
   "nbconvert_exporter": "python",
   "pygments_lexer": "ipython3",
   "version": "3.12.4"
  }
 },
 "nbformat": 4,
 "nbformat_minor": 2
}
