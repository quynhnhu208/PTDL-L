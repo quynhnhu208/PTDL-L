{
  "nbformat": 4,
  "nbformat_minor": 0,
  "metadata": {
    "colab": {
      "provenance": []
    },
    "kernelspec": {
      "name": "python3",
      "display_name": "Python 3"
    },
    "language_info": {
      "name": "python"
    }
  },
  "cells": [
    {
      "cell_type": "code",
      "execution_count": 2,
      "metadata": {
        "id": "b9E7e4kGVoo1"
      },
      "outputs": [],
      "source": [
        "from pyspark.sql import SparkSession\n",
        "from pyspark.sql.functions import *"
      ]
    },
    {
      "cell_type": "code",
      "source": [
        "sprk = SparkSession.builder.appName(\"Excercise_2\").getOrCreate()"
      ],
      "metadata": {
        "id": "pvr5zAaxVz3d"
      },
      "execution_count": 3,
      "outputs": []
    },
    {
      "cell_type": "code",
      "source": [
        "file_path = \"/content/sample_data/restaurant-orders.csv\"\n",
        "df = sprk.read.csv(file_path, header=True, inferSchema=True)\n",
        "df.show()"
      ],
      "metadata": {
        "colab": {
          "base_uri": "https://localhost:8080/"
        },
        "id": "KtBSkvZ7WKEl",
        "outputId": "9dccf617-86c3-4443-d0ac-e4857aaf88af"
      },
      "execution_count": 11,
      "outputs": [
        {
          "output_type": "stream",
          "name": "stdout",
          "text": [
            "+--------+----------------+--------------------+--------+-------------+--------------+\n",
            "|Order ID|      Order Date|           Item Name|Quantity|Product Price|Total products|\n",
            "+--------+----------------+--------------------+--------+-------------+--------------+\n",
            "|   25583|03/08/2019 21:58|Tandoori Mixed Grill|       1|        11.95|            12|\n",
            "|   25583|03/08/2019 21:58|        Madras Sauce|       1|         3.95|            12|\n",
            "|   25583|03/08/2019 21:58|       Mushroom Rice|       2|         3.95|            12|\n",
            "|   25583|03/08/2019 21:58|         Garlic Naan|       1|         2.95|            12|\n",
            "|   25583|03/08/2019 21:58|             Paratha|       1|         2.95|            12|\n",
            "|   25583|03/08/2019 21:58|          Plain Rice|       1|         2.95|            12|\n",
            "|   25583|03/08/2019 21:58|         Prawn Puree|       1|         4.95|            12|\n",
            "|   25583|03/08/2019 21:58|       Plain Papadum|       1|          0.8|            12|\n",
            "|   25583|03/08/2019 21:58|       Mango Chutney|       2|          0.5|            12|\n",
            "|   25583|03/08/2019 21:58|       Onion Chutney|       1|          0.5|            12|\n",
            "|   25583|03/08/2019 21:58|          Mint Sauce|       1|          0.5|            12|\n",
            "|   25583|03/08/2019 21:58|Chicken Tikka Masala|       1|         8.95|            12|\n",
            "|   25582|03/08/2019 20:33|Tandoori King Pra...|       1|        12.95|             5|\n",
            "|   25582|03/08/2019 20:33|          Pilau Rice|       1|         2.95|             5|\n",
            "|   25582|03/08/2019 20:33|       Peshwari Naan|       1|         2.95|             5|\n",
            "|   25582|03/08/2019 20:33|         Bottle Coke|       1|         2.95|             5|\n",
            "|   25582|03/08/2019 20:33|      Butter Chicken|       1|         8.95|             5|\n",
            "|   25581|03/08/2019 20:01|         Saag Paneer|       1|         5.95|             5|\n",
            "|   25581|03/08/2019 20:01|             Chapati|       1|         1.95|             5|\n",
            "|   25581|03/08/2019 20:01|         Onion Bhaji|       1|         3.95|             5|\n",
            "+--------+----------------+--------------------+--------+-------------+--------------+\n",
            "only showing top 20 rows\n",
            "\n"
          ]
        }
      ]
    },
    {
      "cell_type": "code",
      "source": [
        "df.printSchema()"
      ],
      "metadata": {
        "colab": {
          "base_uri": "https://localhost:8080/"
        },
        "id": "kGEMsTaOWdrF",
        "outputId": "8586bb76-833f-4781-f2bb-733170d25f91"
      },
      "execution_count": 12,
      "outputs": [
        {
          "output_type": "stream",
          "name": "stdout",
          "text": [
            "root\n",
            " |-- Order ID: integer (nullable = true)\n",
            " |-- Order Date: string (nullable = true)\n",
            " |-- Item Name: string (nullable = true)\n",
            " |-- Quantity: integer (nullable = true)\n",
            " |-- Product Price: double (nullable = true)\n",
            " |-- Total products: integer (nullable = true)\n",
            "\n"
          ]
        }
      ]
    },
    {
      "cell_type": "code",
      "source": [
        "transformed_df = df.withColumn(\"Order Date\", to_timestamp(col(\"Order Date\"), \"MM/dd/yyyy HH:mm\"))\n",
        "transformed_df.show()"
      ],
      "metadata": {
        "colab": {
          "base_uri": "https://localhost:8080/"
        },
        "id": "EADDquToWkM4",
        "outputId": "3e17687f-d840-4c69-800d-ad56a0dd5eeb"
      },
      "execution_count": 21,
      "outputs": [
        {
          "output_type": "stream",
          "name": "stdout",
          "text": [
            "+--------+-------------------+--------------------+--------+-------------+--------------+\n",
            "|Order ID|         Order Date|           Item Name|Quantity|Product Price|Total products|\n",
            "+--------+-------------------+--------------------+--------+-------------+--------------+\n",
            "|   25583|2019-03-08 21:58:00|Tandoori Mixed Grill|       1|        11.95|            12|\n",
            "|   25583|2019-03-08 21:58:00|        Madras Sauce|       1|         3.95|            12|\n",
            "|   25583|2019-03-08 21:58:00|       Mushroom Rice|       2|         3.95|            12|\n",
            "|   25583|2019-03-08 21:58:00|         Garlic Naan|       1|         2.95|            12|\n",
            "|   25583|2019-03-08 21:58:00|             Paratha|       1|         2.95|            12|\n",
            "|   25583|2019-03-08 21:58:00|          Plain Rice|       1|         2.95|            12|\n",
            "|   25583|2019-03-08 21:58:00|         Prawn Puree|       1|         4.95|            12|\n",
            "|   25583|2019-03-08 21:58:00|       Plain Papadum|       1|          0.8|            12|\n",
            "|   25583|2019-03-08 21:58:00|       Mango Chutney|       2|          0.5|            12|\n",
            "|   25583|2019-03-08 21:58:00|       Onion Chutney|       1|          0.5|            12|\n",
            "|   25583|2019-03-08 21:58:00|          Mint Sauce|       1|          0.5|            12|\n",
            "|   25583|2019-03-08 21:58:00|Chicken Tikka Masala|       1|         8.95|            12|\n",
            "|   25582|2019-03-08 20:33:00|Tandoori King Pra...|       1|        12.95|             5|\n",
            "|   25582|2019-03-08 20:33:00|          Pilau Rice|       1|         2.95|             5|\n",
            "|   25582|2019-03-08 20:33:00|       Peshwari Naan|       1|         2.95|             5|\n",
            "|   25582|2019-03-08 20:33:00|         Bottle Coke|       1|         2.95|             5|\n",
            "|   25582|2019-03-08 20:33:00|      Butter Chicken|       1|         8.95|             5|\n",
            "|   25581|2019-03-08 20:01:00|         Saag Paneer|       1|         5.95|             5|\n",
            "|   25581|2019-03-08 20:01:00|             Chapati|       1|         1.95|             5|\n",
            "|   25581|2019-03-08 20:01:00|         Onion Bhaji|       1|         3.95|             5|\n",
            "+--------+-------------------+--------------------+--------+-------------+--------------+\n",
            "only showing top 20 rows\n",
            "\n"
          ]
        }
      ]
    },
    {
      "cell_type": "code",
      "source": [
        "transformed_df.printSchema()"
      ],
      "metadata": {
        "colab": {
          "base_uri": "https://localhost:8080/"
        },
        "id": "0vaCoOhfXhPo",
        "outputId": "47cc2756-059c-4040-90d0-f3493ec10463"
      },
      "execution_count": 22,
      "outputs": [
        {
          "output_type": "stream",
          "name": "stdout",
          "text": [
            "root\n",
            " |-- Order ID: integer (nullable = true)\n",
            " |-- Order Date: timestamp (nullable = true)\n",
            " |-- Item Name: string (nullable = true)\n",
            " |-- Quantity: integer (nullable = true)\n",
            " |-- Product Price: double (nullable = true)\n",
            " |-- Total products: integer (nullable = true)\n",
            "\n"
          ]
        }
      ]
    },
    {
      "cell_type": "code",
      "source": [
        "data = transformed_df.select(\"Order ID\", \"Order Date\", \"Item Name\")"
      ],
      "metadata": {
        "id": "6Kp08HtlX2PW"
      },
      "execution_count": 24,
      "outputs": []
    },
    {
      "cell_type": "code",
      "source": [
        "data = transformed_df.drop(\"Order Date\")\n",
        "data.show()"
      ],
      "metadata": {
        "colab": {
          "base_uri": "https://localhost:8080/"
        },
        "id": "8n92B1PCWy0h",
        "outputId": "f3fe9de2-0e91-40e1-84c4-1999baabdf64"
      },
      "execution_count": 25,
      "outputs": [
        {
          "output_type": "stream",
          "name": "stdout",
          "text": [
            "+--------+--------------------+--------+-------------+--------------+\n",
            "|Order ID|           Item Name|Quantity|Product Price|Total products|\n",
            "+--------+--------------------+--------+-------------+--------------+\n",
            "|   25583|Tandoori Mixed Grill|       1|        11.95|            12|\n",
            "|   25583|        Madras Sauce|       1|         3.95|            12|\n",
            "|   25583|       Mushroom Rice|       2|         3.95|            12|\n",
            "|   25583|         Garlic Naan|       1|         2.95|            12|\n",
            "|   25583|             Paratha|       1|         2.95|            12|\n",
            "|   25583|          Plain Rice|       1|         2.95|            12|\n",
            "|   25583|         Prawn Puree|       1|         4.95|            12|\n",
            "|   25583|       Plain Papadum|       1|          0.8|            12|\n",
            "|   25583|       Mango Chutney|       2|          0.5|            12|\n",
            "|   25583|       Onion Chutney|       1|          0.5|            12|\n",
            "|   25583|          Mint Sauce|       1|          0.5|            12|\n",
            "|   25583|Chicken Tikka Masala|       1|         8.95|            12|\n",
            "|   25582|Tandoori King Pra...|       1|        12.95|             5|\n",
            "|   25582|          Pilau Rice|       1|         2.95|             5|\n",
            "|   25582|       Peshwari Naan|       1|         2.95|             5|\n",
            "|   25582|         Bottle Coke|       1|         2.95|             5|\n",
            "|   25582|      Butter Chicken|       1|         8.95|             5|\n",
            "|   25581|         Saag Paneer|       1|         5.95|             5|\n",
            "|   25581|             Chapati|       1|         1.95|             5|\n",
            "|   25581|         Onion Bhaji|       1|         3.95|             5|\n",
            "+--------+--------------------+--------+-------------+--------------+\n",
            "only showing top 20 rows\n",
            "\n"
          ]
        }
      ]
    },
    {
      "cell_type": "code",
      "source": [
        "data.write.csv(\"/content/sample_data/restaurant-orders_update.csv\", header=True)"
      ],
      "metadata": {
        "id": "iVz2fhcaXw5F"
      },
      "execution_count": 28,
      "outputs": []
    },
    {
      "cell_type": "code",
      "source": [
        "data.write.parquet(\"/content/sample_data/restaurant-orders-update_(parquet)\")"
      ],
      "metadata": {
        "id": "rNVTtxOUY8Se"
      },
      "execution_count": 29,
      "outputs": []
    },
    {
      "cell_type": "code",
      "source": [
        "data.createTempView(\"orders_tmp\")"
      ],
      "metadata": {
        "id": "XFJ5pYc6Z8xD"
      },
      "execution_count": 30,
      "outputs": []
    },
    {
      "cell_type": "code",
      "source": [
        "sprk.sql(\"SELECT * FROM orders_tmp\").show(5)"
      ],
      "metadata": {
        "colab": {
          "base_uri": "https://localhost:8080/"
        },
        "id": "ex2r8kZFaIuW",
        "outputId": "49e12e71-a2c3-4035-a209-b423698ad4b5"
      },
      "execution_count": 32,
      "outputs": [
        {
          "output_type": "stream",
          "name": "stdout",
          "text": [
            "+--------+--------------------+--------+-------------+--------------+\n",
            "|Order ID|           Item Name|Quantity|Product Price|Total products|\n",
            "+--------+--------------------+--------+-------------+--------------+\n",
            "|   25583|Tandoori Mixed Grill|       1|        11.95|            12|\n",
            "|   25583|        Madras Sauce|       1|         3.95|            12|\n",
            "|   25583|       Mushroom Rice|       2|         3.95|            12|\n",
            "|   25583|         Garlic Naan|       1|         2.95|            12|\n",
            "|   25583|             Paratha|       1|         2.95|            12|\n",
            "+--------+--------------------+--------+-------------+--------------+\n",
            "only showing top 5 rows\n",
            "\n"
          ]
        }
      ]
    },
    {
      "cell_type": "code",
      "source": [
        "data.count()"
      ],
      "metadata": {
        "colab": {
          "base_uri": "https://localhost:8080/"
        },
        "id": "G2p5FWaNaQKj",
        "outputId": "2cfdf8cf-bfb7-486d-831e-d239943c560a"
      },
      "execution_count": 33,
      "outputs": [
        {
          "output_type": "execute_result",
          "data": {
            "text/plain": [
              "119183"
            ]
          },
          "metadata": {},
          "execution_count": 33
        }
      ]
    },
    {
      "cell_type": "code",
      "source": [
        "data.groupBy(\"Item Name\").count().show()"
      ],
      "metadata": {
        "colab": {
          "base_uri": "https://localhost:8080/"
        },
        "id": "vyDGe9IUajqz",
        "outputId": "58ef3974-a34c-4ec1-a666-ca0b9e8e0e99"
      },
      "execution_count": 34,
      "outputs": [
        {
          "output_type": "stream",
          "name": "stdout",
          "text": [
            "+--------------------+-----+\n",
            "|           Item Name|count|\n",
            "+--------------------+-----+\n",
            "|          Mint Sauce| 2498|\n",
            "|      Dupiaza - Lamb|   65|\n",
            "|    Lamb Tikka Balti|   84|\n",
            "|   Vegetable Biryani|  224|\n",
            "|Bhuna - chicken-t...|   10|\n",
            "|     Mushroom Bhajee|  576|\n",
            "|     Bhuna - Chicken|  234|\n",
            "|           Saag Aloo| 2039|\n",
            "|Malaya - Chicken ...|   12|\n",
            "|             Dhansak|  470|\n",
            "|        Madras Sauce|  221|\n",
            "|            Vindaloo|  379|\n",
            "|         Prawn Puree|  754|\n",
            "|      Grapes Special|  357|\n",
            "|             Dupiaza|  244|\n",
            "|     Chicken Biryani|  938|\n",
            "|   Lamb Tikka (Main)|   85|\n",
            "|       Mushroom Rice| 2963|\n",
            "|Cylon - chicken-t...|    1|\n",
            "|Korma - Chicken T...|   80|\n",
            "+--------------------+-----+\n",
            "only showing top 20 rows\n",
            "\n"
          ]
        }
      ]
    },
    {
      "cell_type": "code",
      "source": [
        "sprk.sql(\"SELECT `Item Name`, COUNT(*) FROM orders_tmp GROUP BY `Item Name`\").show(5)"
      ],
      "metadata": {
        "colab": {
          "base_uri": "https://localhost:8080/"
        },
        "id": "5ixUdHzVan9Y",
        "outputId": "8ec344f0-9519-40d3-e7ad-42470e8cb2e7"
      },
      "execution_count": 37,
      "outputs": [
        {
          "output_type": "stream",
          "name": "stdout",
          "text": [
            "+--------------------+--------+\n",
            "|           Item Name|count(1)|\n",
            "+--------------------+--------+\n",
            "|          Mint Sauce|    2498|\n",
            "|      Dupiaza - Lamb|      65|\n",
            "|    Lamb Tikka Balti|      84|\n",
            "|   Vegetable Biryani|     224|\n",
            "|Bhuna - chicken-t...|      10|\n",
            "+--------------------+--------+\n",
            "only showing top 5 rows\n",
            "\n"
          ]
        }
      ]
    },
    {
      "cell_type": "code",
      "source": [
        "data.groupBy(\"Item Name\").count().sort(\"count\", ascending=False).limit(20).show()"
      ],
      "metadata": {
        "colab": {
          "base_uri": "https://localhost:8080/"
        },
        "id": "XUKWMhI4a0_n",
        "outputId": "6c79cdec-f93a-4eb3-9f6b-f94b961c4f93"
      },
      "execution_count": 36,
      "outputs": [
        {
          "output_type": "stream",
          "name": "stdout",
          "text": [
            "+--------------------+-----+\n",
            "|           Item Name|count|\n",
            "+--------------------+-----+\n",
            "|          Pilau Rice| 8372|\n",
            "|                Naan| 6681|\n",
            "|       Plain Papadum| 6432|\n",
            "|         Bombay Aloo| 4128|\n",
            "|         Garlic Naan| 3921|\n",
            "|         Onion Bhaji| 3593|\n",
            "|Chicken Tikka Masala| 3488|\n",
            "|       Mango Chutney| 3435|\n",
            "|       Mushroom Rice| 2963|\n",
            "|          Plain Rice| 2801|\n",
            "|          Mint Sauce| 2498|\n",
            "|          Keema Naan| 2465|\n",
            "|       Peshwari Naan| 2173|\n",
            "|           Saag Aloo| 2039|\n",
            "|       Onion Chutney| 1815|\n",
            "|              Madras| 1729|\n",
            "|          Mini Bhaji| 1719|\n",
            "|               Korma| 1691|\n",
            "|      Butter Chicken| 1516|\n",
            "|           Red Sauce| 1453|\n",
            "+--------------------+-----+\n",
            "\n"
          ]
        }
      ]
    },
    {
      "cell_type": "code",
      "source": [
        "data.select(col(\"Item Name\")).distinct().count()"
      ],
      "metadata": {
        "colab": {
          "base_uri": "https://localhost:8080/"
        },
        "id": "1mdpeuDibZnj",
        "outputId": "9ccbb840-0bbd-41b5-81d5-c12dcd7269d1"
      },
      "execution_count": 38,
      "outputs": [
        {
          "output_type": "execute_result",
          "data": {
            "text/plain": [
              "337"
            ]
          },
          "metadata": {},
          "execution_count": 38
        }
      ]
    },
    {
      "cell_type": "code",
      "source": [
        "sprk.sql(\"SELECT COUNT(DISTINCT `Item Name`) as total_products FROM orders_tmp\").show()"
      ],
      "metadata": {
        "colab": {
          "base_uri": "https://localhost:8080/"
        },
        "id": "CZGIcnOQb_5H",
        "outputId": "d5494157-aed5-4cdf-db21-88513a8a1a2a"
      },
      "execution_count": 39,
      "outputs": [
        {
          "output_type": "stream",
          "name": "stdout",
          "text": [
            "+--------------+\n",
            "|total_products|\n",
            "+--------------+\n",
            "|           337|\n",
            "+--------------+\n",
            "\n"
          ]
        }
      ]
    },
    {
      "cell_type": "code",
      "source": [
        "data.select(\"Item Name\", \"Quantity\").groupBy(\"Item Name\").sum(\"Quantity\").show()"
      ],
      "metadata": {
        "colab": {
          "base_uri": "https://localhost:8080/"
        },
        "id": "lWQxzqc4cI4g",
        "outputId": "8d28c5ed-c199-4ba7-80b6-8df1e8c11ed7"
      },
      "execution_count": 40,
      "outputs": [
        {
          "output_type": "stream",
          "name": "stdout",
          "text": [
            "+--------------------+-------------+\n",
            "|           Item Name|sum(Quantity)|\n",
            "+--------------------+-------------+\n",
            "|          Mint Sauce|         3208|\n",
            "|      Dupiaza - Lamb|           68|\n",
            "|    Lamb Tikka Balti|           95|\n",
            "|   Vegetable Biryani|          234|\n",
            "|Bhuna - chicken-t...|           10|\n",
            "|     Mushroom Bhajee|          584|\n",
            "|     Bhuna - Chicken|          239|\n",
            "|           Saag Aloo|         2089|\n",
            "|Malaya - Chicken ...|           16|\n",
            "|             Dhansak|          512|\n",
            "|        Madras Sauce|          233|\n",
            "|            Vindaloo|          387|\n",
            "|         Prawn Puree|          844|\n",
            "|      Grapes Special|          368|\n",
            "|             Dupiaza|          261|\n",
            "|     Chicken Biryani|         1071|\n",
            "|   Lamb Tikka (Main)|           88|\n",
            "|       Mushroom Rice|         3424|\n",
            "|Cylon - chicken-t...|            1|\n",
            "|Korma - Chicken T...|           80|\n",
            "+--------------------+-------------+\n",
            "only showing top 20 rows\n",
            "\n"
          ]
        }
      ]
    },
    {
      "cell_type": "code",
      "source": [
        "sprk.sql(\"SELECT `Item Name`, SUM(Quantity) as Total FROM orders_tmp GROUP BY `Item Name`\").show()"
      ],
      "metadata": {
        "colab": {
          "base_uri": "https://localhost:8080/"
        },
        "id": "Uk3Rq1rLcWJJ",
        "outputId": "c6423f74-ef22-414b-e454-c7dd9e9a48dc"
      },
      "execution_count": 41,
      "outputs": [
        {
          "output_type": "stream",
          "name": "stdout",
          "text": [
            "+--------------------+-----+\n",
            "|           Item Name|Total|\n",
            "+--------------------+-----+\n",
            "|          Mint Sauce| 3208|\n",
            "|      Dupiaza - Lamb|   68|\n",
            "|    Lamb Tikka Balti|   95|\n",
            "|   Vegetable Biryani|  234|\n",
            "|Bhuna - chicken-t...|   10|\n",
            "|     Mushroom Bhajee|  584|\n",
            "|     Bhuna - Chicken|  239|\n",
            "|           Saag Aloo| 2089|\n",
            "|Malaya - Chicken ...|   16|\n",
            "|             Dhansak|  512|\n",
            "|        Madras Sauce|  233|\n",
            "|            Vindaloo|  387|\n",
            "|         Prawn Puree|  844|\n",
            "|      Grapes Special|  368|\n",
            "|             Dupiaza|  261|\n",
            "|     Chicken Biryani| 1071|\n",
            "|   Lamb Tikka (Main)|   88|\n",
            "|       Mushroom Rice| 3424|\n",
            "|Cylon - chicken-t...|    1|\n",
            "|Korma - Chicken T...|   80|\n",
            "+--------------------+-----+\n",
            "only showing top 20 rows\n",
            "\n"
          ]
        }
      ]
    },
    {
      "cell_type": "code",
      "source": [
        "data.select(\"Item Name\", \"Quantity\").groupBy(\"Item Name\").sum(\"Quantity\").sort(\"sum(Quantity)\", ascending=False).limit(1).show()"
      ],
      "metadata": {
        "colab": {
          "base_uri": "https://localhost:8080/"
        },
        "id": "yj8grzzzceT-",
        "outputId": "a903b8df-cff3-46dd-bfa9-eb22813f3119"
      },
      "execution_count": 43,
      "outputs": [
        {
          "output_type": "stream",
          "name": "stdout",
          "text": [
            "+-------------+-------------+\n",
            "|    Item Name|sum(Quantity)|\n",
            "+-------------+-------------+\n",
            "|Plain Papadum|        18056|\n",
            "+-------------+-------------+\n",
            "\n"
          ]
        }
      ]
    },
    {
      "cell_type": "code",
      "source": [
        "sprk.sql(\"SELECT `Item Name`, SUM(Quantity) as Total FROM orders_tmp GROUP BY `Item Name` ORDER BY Total DESC LIMIT 1\").show()"
      ],
      "metadata": {
        "colab": {
          "base_uri": "https://localhost:8080/"
        },
        "id": "0csqk83Fdpzl",
        "outputId": "867dff76-87c9-4b25-8e9e-49bc8840b149"
      },
      "execution_count": 44,
      "outputs": [
        {
          "output_type": "stream",
          "name": "stdout",
          "text": [
            "+-------------+-----+\n",
            "|    Item Name|Total|\n",
            "+-------------+-----+\n",
            "|Plain Papadum|18056|\n",
            "+-------------+-----+\n",
            "\n"
          ]
        }
      ]
    },
    {
      "cell_type": "code",
      "source": [
        "data.select(\"Item Name\", \"Quantity\").where(\"`Product Price` < 8.0\").groupBy(\"Item Name\").sum(\"Quantity\").sort(sum(\"Quantity\")).show()"
      ],
      "metadata": {
        "colab": {
          "base_uri": "https://localhost:8080/"
        },
        "id": "fNELD613dxtD",
        "outputId": "cfb05b5c-8ec7-4a9e-8bad-1b6f790520b4"
      },
      "execution_count": 45,
      "outputs": [
        {
          "output_type": "stream",
          "name": "stdout",
          "text": [
            "+------------------+-------------+\n",
            "|         Item Name|sum(Quantity)|\n",
            "+------------------+-------------+\n",
            "|       Kurma Sauce|            2|\n",
            "|      Paner Pakora|            5|\n",
            "|Perrier Water 75cl|           11|\n",
            "|   Vindaloo - lamb|           12|\n",
            "| Bottle Water 75cl|           18|\n",
            "|   Vegetable Bhuna|           24|\n",
            "|      Curry - lamb|           25|\n",
            "|Vindaloo - chicken|           28|\n",
            "|   Vegetable Samba|           39|\n",
            "|       Egg Paratha|           42|\n",
            "|  Vegetable Dansak|           44|\n",
            "|     Madras - lamb|           49|\n",
            "|  Vegetable Masala|           52|\n",
            "|        Aloo Mithy|           54|\n",
            "| Diet Coke 1.5 ltr|           58|\n",
            "|              Dahi|           59|\n",
            "|Vegetable Jalfrezi|           60|\n",
            "|  Bottle Diet Coke|           64|\n",
            "|   Vindaloo - Lamb|           76|\n",
            "| Bangon Hari Mirch|           78|\n",
            "+------------------+-------------+\n",
            "only showing top 20 rows\n",
            "\n"
          ]
        }
      ]
    },
    {
      "cell_type": "code",
      "source": [
        "sprk.sql(\"\"\"\n",
        "      SELECT `Item Name`, SUM(Quantity) as Total\n",
        "      FROM orders_tmp WHERE `Product Price` < 8.0 GROUP BY `Item Name` ORDER BY Total desc\"\"\").show(5)"
      ],
      "metadata": {
        "colab": {
          "base_uri": "https://localhost:8080/"
        },
        "id": "Y6iWxQeIeg-0",
        "outputId": "8e509de4-7756-49e9-d62f-2c44d7d21b5e"
      },
      "execution_count": 50,
      "outputs": [
        {
          "output_type": "stream",
          "name": "stdout",
          "text": [
            "+-------------+-----+\n",
            "|    Item Name|Total|\n",
            "+-------------+-----+\n",
            "|Plain Papadum|18056|\n",
            "|   Pilau Rice|11754|\n",
            "|         Naan| 8730|\n",
            "|  Garlic Naan| 4809|\n",
            "|  Bombay Aloo| 4336|\n",
            "+-------------+-----+\n",
            "only showing top 5 rows\n",
            "\n"
          ]
        }
      ]
    },
    {
      "cell_type": "code",
      "source": [
        "data.withColumn(\"Total Amount\", col(\"Quantity\") * col(\"Product Price\")).show(5)"
      ],
      "metadata": {
        "colab": {
          "base_uri": "https://localhost:8080/"
        },
        "id": "2avyBhuie8PP",
        "outputId": "70b41a34-0a37-4009-c4ea-fbce23ea2ccb"
      },
      "execution_count": 48,
      "outputs": [
        {
          "output_type": "stream",
          "name": "stdout",
          "text": [
            "+--------+--------------------+--------+-------------+--------------+------------+\n",
            "|Order ID|           Item Name|Quantity|Product Price|Total products|Total Amount|\n",
            "+--------+--------------------+--------+-------------+--------------+------------+\n",
            "|   25583|Tandoori Mixed Grill|       1|        11.95|            12|       11.95|\n",
            "|   25583|        Madras Sauce|       1|         3.95|            12|        3.95|\n",
            "|   25583|       Mushroom Rice|       2|         3.95|            12|         7.9|\n",
            "|   25583|         Garlic Naan|       1|         2.95|            12|        2.95|\n",
            "|   25583|             Paratha|       1|         2.95|            12|        2.95|\n",
            "+--------+--------------------+--------+-------------+--------------+------------+\n",
            "only showing top 5 rows\n",
            "\n"
          ]
        }
      ]
    },
    {
      "cell_type": "code",
      "source": [
        "data.select(\"*\", expr(\"Quantity * `Product Price` as `Total Amount`\")).show(5)"
      ],
      "metadata": {
        "colab": {
          "base_uri": "https://localhost:8080/"
        },
        "id": "_VwF8HLsfNgi",
        "outputId": "4eb98219-c306-42e0-dc33-498edbdfcb15"
      },
      "execution_count": 53,
      "outputs": [
        {
          "output_type": "stream",
          "name": "stdout",
          "text": [
            "+--------+--------------------+--------+-------------+--------------+------------+\n",
            "|Order ID|           Item Name|Quantity|Product Price|Total products|Total Amount|\n",
            "+--------+--------------------+--------+-------------+--------------+------------+\n",
            "|   25583|Tandoori Mixed Grill|       1|        11.95|            12|       11.95|\n",
            "|   25583|        Madras Sauce|       1|         3.95|            12|        3.95|\n",
            "|   25583|       Mushroom Rice|       2|         3.95|            12|         7.9|\n",
            "|   25583|         Garlic Naan|       1|         2.95|            12|        2.95|\n",
            "|   25583|             Paratha|       1|         2.95|            12|        2.95|\n",
            "+--------+--------------------+--------+-------------+--------------+------------+\n",
            "only showing top 5 rows\n",
            "\n"
          ]
        }
      ]
    },
    {
      "cell_type": "code",
      "source": [
        "data.selectExpr(\"*\", \"Quantity * `Product Price` as `Total Amount`\").show(5)"
      ],
      "metadata": {
        "colab": {
          "base_uri": "https://localhost:8080/"
        },
        "id": "gMaDGjD-gAEA",
        "outputId": "33f2a2ac-7f89-4098-d34b-69fdf99c7df0"
      },
      "execution_count": 55,
      "outputs": [
        {
          "output_type": "stream",
          "name": "stdout",
          "text": [
            "+--------+--------------------+--------+-------------+--------------+------------+\n",
            "|Order ID|           Item Name|Quantity|Product Price|Total products|Total Amount|\n",
            "+--------+--------------------+--------+-------------+--------------+------------+\n",
            "|   25583|Tandoori Mixed Grill|       1|        11.95|            12|       11.95|\n",
            "|   25583|        Madras Sauce|       1|         3.95|            12|        3.95|\n",
            "|   25583|       Mushroom Rice|       2|         3.95|            12|         7.9|\n",
            "|   25583|         Garlic Naan|       1|         2.95|            12|        2.95|\n",
            "|   25583|             Paratha|       1|         2.95|            12|        2.95|\n",
            "+--------+--------------------+--------+-------------+--------------+------------+\n",
            "only showing top 5 rows\n",
            "\n"
          ]
        }
      ]
    },
    {
      "cell_type": "code",
      "source": [
        "data.withColumn(\"Product Price\", when(col('Item Name').contains('Madras Sauce'), round(col(\"Product Price\") * 1.10, 2))\n",
        "                                .when(col('Item Name').contains('Garlic Naan'), round(col(\"Product Price\") * 1.12, 2))\n",
        "                                .otherwise(col(\"Product Price\"))).show()"
      ],
      "metadata": {
        "colab": {
          "base_uri": "https://localhost:8080/"
        },
        "id": "Dx-IB0WrgT7A",
        "outputId": "9a5655af-08f1-49dc-b5e7-8b35a76af3ca"
      },
      "execution_count": 58,
      "outputs": [
        {
          "output_type": "stream",
          "name": "stdout",
          "text": [
            "+--------+--------------------+--------+-------------+--------------+\n",
            "|Order ID|           Item Name|Quantity|Product Price|Total products|\n",
            "+--------+--------------------+--------+-------------+--------------+\n",
            "|   25583|Tandoori Mixed Grill|       1|        11.95|            12|\n",
            "|   25583|        Madras Sauce|       1|         4.35|            12|\n",
            "|   25583|       Mushroom Rice|       2|         3.95|            12|\n",
            "|   25583|         Garlic Naan|       1|          3.3|            12|\n",
            "|   25583|             Paratha|       1|         2.95|            12|\n",
            "|   25583|          Plain Rice|       1|         2.95|            12|\n",
            "|   25583|         Prawn Puree|       1|         4.95|            12|\n",
            "|   25583|       Plain Papadum|       1|          0.8|            12|\n",
            "|   25583|       Mango Chutney|       2|          0.5|            12|\n",
            "|   25583|       Onion Chutney|       1|          0.5|            12|\n",
            "|   25583|          Mint Sauce|       1|          0.5|            12|\n",
            "|   25583|Chicken Tikka Masala|       1|         8.95|            12|\n",
            "|   25582|Tandoori King Pra...|       1|        12.95|             5|\n",
            "|   25582|          Pilau Rice|       1|         2.95|             5|\n",
            "|   25582|       Peshwari Naan|       1|         2.95|             5|\n",
            "|   25582|         Bottle Coke|       1|         2.95|             5|\n",
            "|   25582|      Butter Chicken|       1|         8.95|             5|\n",
            "|   25581|         Saag Paneer|       1|         5.95|             5|\n",
            "|   25581|             Chapati|       1|         1.95|             5|\n",
            "|   25581|         Onion Bhaji|       1|         3.95|             5|\n",
            "+--------+--------------------+--------+-------------+--------------+\n",
            "only showing top 20 rows\n",
            "\n"
          ]
        }
      ]
    },
    {
      "cell_type": "code",
      "source": [
        "user_input = input(\"Enter the product name: \")\n",
        "\n",
        "regex_pattern = f\"^{user_input}\"\n",
        "\n",
        "data.withColumn(\"Product Pricw\", when(col(\"Item Name\").rlike(regex_pattern), round(col(\"Product Price\") * 1.10, 2))\n",
        "                                .when(col(\"Item Name\").like(\"Garlic Naan\"), round(col(\"Product Price\") * 1.12, 2))\n",
        "                                .otherwise(col(\"Product Price\"))).show()"
      ],
      "metadata": {
        "colab": {
          "base_uri": "https://localhost:8080/"
        },
        "id": "OzfW_5EOhF5m",
        "outputId": "a96f6f55-96e0-41e7-b8c3-8e9605636d29"
      },
      "execution_count": 59,
      "outputs": [
        {
          "output_type": "stream",
          "name": "stdout",
          "text": [
            "Enter the product name: Garlic Naan\n",
            "+--------+--------------------+--------+-------------+--------------+-------------+\n",
            "|Order ID|           Item Name|Quantity|Product Price|Total products|Product Pricw|\n",
            "+--------+--------------------+--------+-------------+--------------+-------------+\n",
            "|   25583|Tandoori Mixed Grill|       1|        11.95|            12|        11.95|\n",
            "|   25583|        Madras Sauce|       1|         3.95|            12|         3.95|\n",
            "|   25583|       Mushroom Rice|       2|         3.95|            12|         3.95|\n",
            "|   25583|         Garlic Naan|       1|         2.95|            12|         3.25|\n",
            "|   25583|             Paratha|       1|         2.95|            12|         2.95|\n",
            "|   25583|          Plain Rice|       1|         2.95|            12|         2.95|\n",
            "|   25583|         Prawn Puree|       1|         4.95|            12|         4.95|\n",
            "|   25583|       Plain Papadum|       1|          0.8|            12|          0.8|\n",
            "|   25583|       Mango Chutney|       2|          0.5|            12|          0.5|\n",
            "|   25583|       Onion Chutney|       1|          0.5|            12|          0.5|\n",
            "|   25583|          Mint Sauce|       1|          0.5|            12|          0.5|\n",
            "|   25583|Chicken Tikka Masala|       1|         8.95|            12|         8.95|\n",
            "|   25582|Tandoori King Pra...|       1|        12.95|             5|        12.95|\n",
            "|   25582|          Pilau Rice|       1|         2.95|             5|         2.95|\n",
            "|   25582|       Peshwari Naan|       1|         2.95|             5|         2.95|\n",
            "|   25582|         Bottle Coke|       1|         2.95|             5|         2.95|\n",
            "|   25582|      Butter Chicken|       1|         8.95|             5|         8.95|\n",
            "|   25581|         Saag Paneer|       1|         5.95|             5|         5.95|\n",
            "|   25581|             Chapati|       1|         1.95|             5|         1.95|\n",
            "|   25581|         Onion Bhaji|       1|         3.95|             5|         3.95|\n",
            "+--------+--------------------+--------+-------------+--------------+-------------+\n",
            "only showing top 20 rows\n",
            "\n"
          ]
        }
      ]
    },
    {
      "cell_type": "code",
      "source": [
        "data.selectExpr(\"*\", \"\"\"\n",
        "              CASE\n",
        "                  WHEN `Item Name` LIKE 'Madras Sauce' THEN ROUND(`Product Price` * 1.10, 2)\n",
        "                  WHEN `Item Name` LIKE 'Garlic Naan' THEN ROUND(`Product Price` * 1.12, 2)\n",
        "              ELSE\n",
        "                  `Product Price`\n",
        "              END `Product Price (new)`\n",
        "\"\"\").show()"
      ],
      "metadata": {
        "colab": {
          "base_uri": "https://localhost:8080/"
        },
        "id": "LPBEGfwijID_",
        "outputId": "5a2a94d4-bdaa-495b-a694-0eecaee7a00d"
      },
      "execution_count": 60,
      "outputs": [
        {
          "output_type": "stream",
          "name": "stdout",
          "text": [
            "+--------+--------------------+--------+-------------+--------------+-------------------+\n",
            "|Order ID|           Item Name|Quantity|Product Price|Total products|Product Price (new)|\n",
            "+--------+--------------------+--------+-------------+--------------+-------------------+\n",
            "|   25583|Tandoori Mixed Grill|       1|        11.95|            12|              11.95|\n",
            "|   25583|        Madras Sauce|       1|         3.95|            12|               4.35|\n",
            "|   25583|       Mushroom Rice|       2|         3.95|            12|               3.95|\n",
            "|   25583|         Garlic Naan|       1|         2.95|            12|                3.3|\n",
            "|   25583|             Paratha|       1|         2.95|            12|               2.95|\n",
            "|   25583|          Plain Rice|       1|         2.95|            12|               2.95|\n",
            "|   25583|         Prawn Puree|       1|         4.95|            12|               4.95|\n",
            "|   25583|       Plain Papadum|       1|          0.8|            12|                0.8|\n",
            "|   25583|       Mango Chutney|       2|          0.5|            12|                0.5|\n",
            "|   25583|       Onion Chutney|       1|          0.5|            12|                0.5|\n",
            "|   25583|          Mint Sauce|       1|          0.5|            12|                0.5|\n",
            "|   25583|Chicken Tikka Masala|       1|         8.95|            12|               8.95|\n",
            "|   25582|Tandoori King Pra...|       1|        12.95|             5|              12.95|\n",
            "|   25582|          Pilau Rice|       1|         2.95|             5|               2.95|\n",
            "|   25582|       Peshwari Naan|       1|         2.95|             5|               2.95|\n",
            "|   25582|         Bottle Coke|       1|         2.95|             5|               2.95|\n",
            "|   25582|      Butter Chicken|       1|         8.95|             5|               8.95|\n",
            "|   25581|         Saag Paneer|       1|         5.95|             5|               5.95|\n",
            "|   25581|             Chapati|       1|         1.95|             5|               1.95|\n",
            "|   25581|         Onion Bhaji|       1|         3.95|             5|               3.95|\n",
            "+--------+--------------------+--------+-------------+--------------+-------------------+\n",
            "only showing top 20 rows\n",
            "\n"
          ]
        }
      ]
    },
    {
      "cell_type": "code",
      "source": [
        "user_input = input(\"Enter the product name: \")\n",
        "data.selectExpr(\"*\", f\"\"\"\n",
        "              CASE\n",
        "                  WHEN `Item Name` LIKE '%{user_input}%' THEN round(`Product Price` * 1.10, 2)\n",
        "                  WHEN `Item Name` LIKE 'Garlic Naan' THEN ROUND(`Product Price` * 1.12, 2)\n",
        "              ELSE\n",
        "                  `Product Price`\n",
        "              END `Product Price (new)`\n",
        "\"\"\").show()"
      ],
      "metadata": {
        "colab": {
          "base_uri": "https://localhost:8080/"
        },
        "id": "_UDn24Exjv1z",
        "outputId": "28a444b2-b9d0-491c-b35f-b5cfc7ee9c8b"
      },
      "execution_count": 61,
      "outputs": [
        {
          "output_type": "stream",
          "name": "stdout",
          "text": [
            "Enter the product name: Mango\n",
            "+--------+--------------------+--------+-------------+--------------+-------------------+\n",
            "|Order ID|           Item Name|Quantity|Product Price|Total products|Product Price (new)|\n",
            "+--------+--------------------+--------+-------------+--------------+-------------------+\n",
            "|   25583|Tandoori Mixed Grill|       1|        11.95|            12|              11.95|\n",
            "|   25583|        Madras Sauce|       1|         3.95|            12|               3.95|\n",
            "|   25583|       Mushroom Rice|       2|         3.95|            12|               3.95|\n",
            "|   25583|         Garlic Naan|       1|         2.95|            12|                3.3|\n",
            "|   25583|             Paratha|       1|         2.95|            12|               2.95|\n",
            "|   25583|          Plain Rice|       1|         2.95|            12|               2.95|\n",
            "|   25583|         Prawn Puree|       1|         4.95|            12|               4.95|\n",
            "|   25583|       Plain Papadum|       1|          0.8|            12|                0.8|\n",
            "|   25583|       Mango Chutney|       2|          0.5|            12|               0.55|\n",
            "|   25583|       Onion Chutney|       1|          0.5|            12|                0.5|\n",
            "|   25583|          Mint Sauce|       1|          0.5|            12|                0.5|\n",
            "|   25583|Chicken Tikka Masala|       1|         8.95|            12|               8.95|\n",
            "|   25582|Tandoori King Pra...|       1|        12.95|             5|              12.95|\n",
            "|   25582|          Pilau Rice|       1|         2.95|             5|               2.95|\n",
            "|   25582|       Peshwari Naan|       1|         2.95|             5|               2.95|\n",
            "|   25582|         Bottle Coke|       1|         2.95|             5|               2.95|\n",
            "|   25582|      Butter Chicken|       1|         8.95|             5|               8.95|\n",
            "|   25581|         Saag Paneer|       1|         5.95|             5|               5.95|\n",
            "|   25581|             Chapati|       1|         1.95|             5|               1.95|\n",
            "|   25581|         Onion Bhaji|       1|         3.95|             5|               3.95|\n",
            "+--------+--------------------+--------+-------------+--------------+-------------------+\n",
            "only showing top 20 rows\n",
            "\n"
          ]
        }
      ]
    },
    {
      "cell_type": "code",
      "source": [
        "sprk.stop()"
      ],
      "metadata": {
        "id": "ERaKWqHLkReg"
      },
      "execution_count": 62,
      "outputs": []
    },
    {
      "cell_type": "code",
      "source": [],
      "metadata": {
        "id": "kxHD48JClF4c"
      },
      "execution_count": null,
      "outputs": []
    }
  ]
}