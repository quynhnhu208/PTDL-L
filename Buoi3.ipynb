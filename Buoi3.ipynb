{
 "cells": [
  {
   "cell_type": "code",
   "execution_count": null,
   "metadata": {
    "id": "2z2TH289zQav"
   },
   "outputs": [],
   "source": [
    "from pyspark.sql import SparkSession\n",
    "from pyspark.sql.functions import *"
   ]
  },
  {
   "cell_type": "code",
   "execution_count": null,
   "metadata": {
    "id": "YgzWiXWp0DB4"
   },
   "outputs": [],
   "source": [
    "spark = SparkSession.builder.appName('Exercise_1_cont').getOrCreate()\n",
    "spark.sparkContext.setLogLevel('ERROR')"
   ]
  },
  {
   "cell_type": "code",
   "execution_count": null,
   "metadata": {
    "id": "5geHhHzl0DD7"
   },
   "outputs": [],
   "source": [
    "file_path = '/content/restaurant-orders.csv'\n",
    "df = spark.read.csv(file_path, header=True, inferSchema=True)"
   ]
  },
  {
   "cell_type": "code",
   "execution_count": null,
   "metadata": {
    "colab": {
     "base_uri": "https://localhost:8080/"
    },
    "executionInfo": {
     "elapsed": 1403,
     "status": "ok",
     "timestamp": 1740551783534,
     "user": {
      "displayName": "0123_Nguyễn Bá Tuấn Anh",
      "userId": "05150973192516695832"
     },
     "user_tz": -420
    },
    "id": "f2rhcdtM0DJg",
    "outputId": "534e4ebb-ba87-4aa3-e099-ab87128f000c"
   },
   "outputs": [
    {
     "name": "stdout",
     "output_type": "stream",
     "text": [
      "+----------+\n",
      "|Total_rows|\n",
      "+----------+\n",
      "|    119183|\n",
      "+----------+\n",
      "\n"
     ]
    }
   ],
   "source": [
    "df.select(count('*').alias(\"Total_rows\")).show()"
   ]
  },
  {
   "cell_type": "code",
   "execution_count": null,
   "metadata": {
    "colab": {
     "base_uri": "https://localhost:8080/"
    },
    "executionInfo": {
     "elapsed": 2348,
     "status": "ok",
     "timestamp": 1740551785895,
     "user": {
      "displayName": "0123_Nguyễn Bá Tuấn Anh",
      "userId": "05150973192516695832"
     },
     "user_tz": -420
    },
    "id": "P42dh_9I0xGX",
    "outputId": "228ccedf-abfb-48db-cad4-d9361123e52b"
   },
   "outputs": [
    {
     "name": "stdout",
     "output_type": "stream",
     "text": [
      "+----------+------------+\n",
      "|Total_rows|Total_orders|\n",
      "+----------+------------+\n",
      "|    119183|       19658|\n",
      "+----------+------------+\n",
      "\n"
     ]
    }
   ],
   "source": [
    "df.select(count('*').alias(\"Total_rows\"), countDistinct(\"Order ID\").alias(\"Total_orders\")).show()"
   ]
  },
  {
   "cell_type": "code",
   "execution_count": null,
   "metadata": {
    "colab": {
     "base_uri": "https://localhost:8080/"
    },
    "executionInfo": {
     "elapsed": 2326,
     "status": "ok",
     "timestamp": 1740551788221,
     "user": {
      "displayName": "0123_Nguyễn Bá Tuấn Anh",
      "userId": "05150973192516695832"
     },
     "user_tz": -420
    },
    "id": "q67itX1r0xIm",
    "outputId": "5e67b169-4ef6-4744-bddf-67cba3d52826"
   },
   "outputs": [
    {
     "name": "stdout",
     "output_type": "stream",
     "text": [
      "+----------+------------+-------------+----------------------------+\n",
      "|Total_rows|Total_orders|sum(Quantity)|round(avg(Product Price), 2)|\n",
      "+----------+------------+-------------+----------------------------+\n",
      "|    119183|       19658|       148844|                        5.11|\n",
      "+----------+------------+-------------+----------------------------+\n",
      "\n"
     ]
    }
   ],
   "source": [
    "df.select(count('*').alias(\"Total_rows\"),\n",
    "          countDistinct(\"Order ID\").alias(\"Total_orders\"), sum(\"Quantity\"), round(avg(\"Product Price\"),2)).show()\n",
    "\n"
   ]
  },
  {
   "cell_type": "code",
   "execution_count": null,
   "metadata": {
    "colab": {
     "base_uri": "https://localhost:8080/"
    },
    "executionInfo": {
     "elapsed": 2387,
     "status": "ok",
     "timestamp": 1740551790609,
     "user": {
      "displayName": "0123_Nguyễn Bá Tuấn Anh",
      "userId": "05150973192516695832"
     },
     "user_tz": -420
    },
    "id": "3yPTK9uI0xK_",
    "outputId": "85448793-f19e-493f-c373-5d28ad499ace"
   },
   "outputs": [
    {
     "name": "stdout",
     "output_type": "stream",
     "text": [
      "+----------+------------+-------------+----------------------------+\n",
      "|Total_rows|Total_orders|sum(Quantity)|round(avg(Product Price), 2)|\n",
      "+----------+------------+-------------+----------------------------+\n",
      "|    119183|           1|       148844|                        NULL|\n",
      "+----------+------------+-------------+----------------------------+\n",
      "\n"
     ]
    }
   ],
   "source": [
    "df.selectExpr(\"count(*) as Total_rows\",\n",
    "              \"count(distinct 'Order ID') as Total_orders\",\n",
    "              \"sum(Quantity)\",\n",
    "              \"round(avg('Product Price'),2)\").show()"
   ]
  },
  {
   "cell_type": "code",
   "execution_count": null,
   "metadata": {
    "id": "2EcRqaia0xOh"
   },
   "outputs": [],
   "source": [
    "df.createOrReplaceTempView(\"orders\")"
   ]
  },
  {
   "cell_type": "code",
   "execution_count": null,
   "metadata": {
    "colab": {
     "base_uri": "https://localhost:8080/"
    },
    "executionInfo": {
     "elapsed": 1695,
     "status": "ok",
     "timestamp": 1740551792367,
     "user": {
      "displayName": "0123_Nguyễn Bá Tuấn Anh",
      "userId": "05150973192516695832"
     },
     "user_tz": -420
    },
    "id": "go9-bF0b2hWJ",
    "outputId": "cd74fd66-beec-4c5c-9a3a-3692c13abcc2"
   },
   "outputs": [
    {
     "name": "stdout",
     "output_type": "stream",
     "text": [
      "+----------+------------+-------------+----------------------------+\n",
      "|Total_rows|Tatal_orders|sum(Quantity)|round(avg(Product Price), 2)|\n",
      "+----------+------------+-------------+----------------------------+\n",
      "|    119183|       19658|       148844|                        5.11|\n",
      "+----------+------------+-------------+----------------------------+\n",
      "\n"
     ]
    }
   ],
   "source": [
    "spark.sql(\"\"\"\n",
    "    SELECT\n",
    "        count(*) as Total_rows,\n",
    "        count(distinct `Order ID`) as Tatal_orders,\n",
    "        sum(Quantity),\n",
    "        round(avg(`Product Price`),2)\n",
    "    FROM orders\n",
    "\"\"\").show()"
   ]
  },
  {
   "cell_type": "code",
   "execution_count": null,
   "metadata": {
    "colab": {
     "base_uri": "https://localhost:8080/"
    },
    "executionInfo": {
     "elapsed": 1298,
     "status": "ok",
     "timestamp": 1740551793666,
     "user": {
      "displayName": "0123_Nguyễn Bá Tuấn Anh",
      "userId": "05150973192516695832"
     },
     "user_tz": -420
    },
    "id": "dUUST54d2hYO",
    "outputId": "18c8de65-eecd-44c1-d394-11a47a949974"
   },
   "outputs": [
    {
     "data": {
      "text/plain": [
       "[Row(Order ID=25517, Total_quantity=4),\n",
       " Row(Order ID=24663, Total_quantity=6),\n",
       " Row(Order ID=24347, Total_quantity=13),\n",
       " Row(Order ID=24171, Total_quantity=4),\n",
       " Row(Order ID=21700, Total_quantity=10),\n",
       " Row(Order ID=21220, Total_quantity=6),\n",
       " Row(Order ID=20924, Total_quantity=6),\n",
       " Row(Order ID=20497, Total_quantity=15),\n",
       " Row(Order ID=20382, Total_quantity=9),\n",
       " Row(Order ID=19553, Total_quantity=8),\n",
       " Row(Order ID=19204, Total_quantity=8),\n",
       " Row(Order ID=18944, Total_quantity=9),\n",
       " Row(Order ID=18498, Total_quantity=7),\n",
       " Row(Order ID=12046, Total_quantity=12),\n",
       " Row(Order ID=11858, Total_quantity=12),\n",
       " Row(Order ID=11033, Total_quantity=5),\n",
       " Row(Order ID=10623, Total_quantity=10),\n",
       " Row(Order ID=10362, Total_quantity=7),\n",
       " Row(Order ID=10206, Total_quantity=14),\n",
       " Row(Order ID=9900, Total_quantity=18),\n",
       " Row(Order ID=7993, Total_quantity=11),\n",
       " Row(Order ID=7880, Total_quantity=9),\n",
       " Row(Order ID=7554, Total_quantity=7),\n",
       " Row(Order ID=7253, Total_quantity=17),\n",
       " Row(Order ID=6654, Total_quantity=17),\n",
       " Row(Order ID=6397, Total_quantity=16),\n",
       " Row(Order ID=6357, Total_quantity=11),\n",
       " Row(Order ID=6336, Total_quantity=8),\n",
       " Row(Order ID=5803, Total_quantity=8),\n",
       " Row(Order ID=4818, Total_quantity=10),\n",
       " Row(Order ID=4519, Total_quantity=12),\n",
       " Row(Order ID=22521, Total_quantity=7),\n",
       " Row(Order ID=19984, Total_quantity=8),\n",
       " Row(Order ID=18654, Total_quantity=9),\n",
       " Row(Order ID=16574, Total_quantity=6),\n",
       " Row(Order ID=15447, Total_quantity=10),\n",
       " Row(Order ID=13623, Total_quantity=6),\n",
       " Row(Order ID=9427, Total_quantity=15),\n",
       " Row(Order ID=8592, Total_quantity=6),\n",
       " Row(Order ID=8086, Total_quantity=7),\n",
       " Row(Order ID=7340, Total_quantity=8),\n",
       " Row(Order ID=6620, Total_quantity=25),\n",
       " Row(Order ID=25462, Total_quantity=8),\n",
       " Row(Order ID=22346, Total_quantity=5),\n",
       " Row(Order ID=20135, Total_quantity=5),\n",
       " Row(Order ID=18800, Total_quantity=5),\n",
       " Row(Order ID=17753, Total_quantity=5),\n",
       " Row(Order ID=13832, Total_quantity=9),\n",
       " Row(Order ID=11748, Total_quantity=5),\n",
       " Row(Order ID=23336, Total_quantity=8),\n",
       " Row(Order ID=22373, Total_quantity=9),\n",
       " Row(Order ID=22097, Total_quantity=5),\n",
       " Row(Order ID=18979, Total_quantity=7),\n",
       " Row(Order ID=18866, Total_quantity=4),\n",
       " Row(Order ID=18051, Total_quantity=4),\n",
       " Row(Order ID=16339, Total_quantity=7),\n",
       " Row(Order ID=15957, Total_quantity=5),\n",
       " Row(Order ID=13289, Total_quantity=5),\n",
       " Row(Order ID=12799, Total_quantity=7),\n",
       " Row(Order ID=9852, Total_quantity=4),\n",
       " Row(Order ID=9465, Total_quantity=6),\n",
       " Row(Order ID=8638, Total_quantity=17),\n",
       " Row(Order ID=8389, Total_quantity=8),\n",
       " Row(Order ID=7833, Total_quantity=6),\n",
       " Row(Order ID=6466, Total_quantity=6),\n",
       " Row(Order ID=5156, Total_quantity=11),\n",
       " Row(Order ID=4900, Total_quantity=5),\n",
       " Row(Order ID=23571, Total_quantity=8),\n",
       " Row(Order ID=23364, Total_quantity=9),\n",
       " Row(Order ID=23271, Total_quantity=11),\n",
       " Row(Order ID=23015, Total_quantity=3),\n",
       " Row(Order ID=20683, Total_quantity=5),\n",
       " Row(Order ID=19079, Total_quantity=12),\n",
       " Row(Order ID=18911, Total_quantity=5),\n",
       " Row(Order ID=18024, Total_quantity=5),\n",
       " Row(Order ID=17679, Total_quantity=4),\n",
       " Row(Order ID=17420, Total_quantity=5),\n",
       " Row(Order ID=17389, Total_quantity=3),\n",
       " Row(Order ID=16861, Total_quantity=12),\n",
       " Row(Order ID=15727, Total_quantity=5),\n",
       " Row(Order ID=15619, Total_quantity=7),\n",
       " Row(Order ID=14570, Total_quantity=4),\n",
       " Row(Order ID=12940, Total_quantity=6),\n",
       " Row(Order ID=11458, Total_quantity=6),\n",
       " Row(Order ID=11141, Total_quantity=5),\n",
       " Row(Order ID=10817, Total_quantity=5),\n",
       " Row(Order ID=7982, Total_quantity=4),\n",
       " Row(Order ID=7754, Total_quantity=5),\n",
       " Row(Order ID=7240, Total_quantity=6),\n",
       " Row(Order ID=6658, Total_quantity=14),\n",
       " Row(Order ID=5518, Total_quantity=6),\n",
       " Row(Order ID=5300, Total_quantity=6),\n",
       " Row(Order ID=4935, Total_quantity=11),\n",
       " Row(Order ID=24354, Total_quantity=2),\n",
       " Row(Order ID=22223, Total_quantity=1),\n",
       " Row(Order ID=16503, Total_quantity=4),\n",
       " Row(Order ID=16386, Total_quantity=5),\n",
       " Row(Order ID=12027, Total_quantity=4),\n",
       " Row(Order ID=13840, Total_quantity=3),\n",
       " Row(Order ID=20735, Total_quantity=5),\n",
       " Row(Order ID=19530, Total_quantity=2),\n",
       " Row(Order ID=14450, Total_quantity=2),\n",
       " Row(Order ID=24873, Total_quantity=9),\n",
       " Row(Order ID=23727, Total_quantity=6),\n",
       " Row(Order ID=23136, Total_quantity=10),\n",
       " Row(Order ID=22990, Total_quantity=7),\n",
       " Row(Order ID=22188, Total_quantity=11),\n",
       " Row(Order ID=22004, Total_quantity=9),\n",
       " Row(Order ID=21598, Total_quantity=7),\n",
       " Row(Order ID=20596, Total_quantity=5),\n",
       " Row(Order ID=20396, Total_quantity=8),\n",
       " Row(Order ID=19873, Total_quantity=7),\n",
       " Row(Order ID=19325, Total_quantity=6),\n",
       " Row(Order ID=19200, Total_quantity=16),\n",
       " Row(Order ID=18282, Total_quantity=1),\n",
       " Row(Order ID=18161, Total_quantity=9),\n",
       " Row(Order ID=17172, Total_quantity=5),\n",
       " Row(Order ID=16916, Total_quantity=14),\n",
       " Row(Order ID=16500, Total_quantity=13),\n",
       " Row(Order ID=15004, Total_quantity=9),\n",
       " Row(Order ID=14423, Total_quantity=17),\n",
       " Row(Order ID=13622, Total_quantity=10),\n",
       " Row(Order ID=13261, Total_quantity=7),\n",
       " Row(Order ID=12626, Total_quantity=18),\n",
       " Row(Order ID=12471, Total_quantity=6),\n",
       " Row(Order ID=10703, Total_quantity=13),\n",
       " Row(Order ID=10230, Total_quantity=18),\n",
       " Row(Order ID=7168, Total_quantity=12),\n",
       " Row(Order ID=6773, Total_quantity=6),\n",
       " Row(Order ID=6623, Total_quantity=9),\n",
       " Row(Order ID=4929, Total_quantity=17),\n",
       " Row(Order ID=25283, Total_quantity=8),\n",
       " Row(Order ID=24728, Total_quantity=9),\n",
       " Row(Order ID=23523, Total_quantity=18),\n",
       " Row(Order ID=20928, Total_quantity=18),\n",
       " Row(Order ID=19962, Total_quantity=25),\n",
       " Row(Order ID=19206, Total_quantity=12),\n",
       " Row(Order ID=18902, Total_quantity=8),\n",
       " Row(Order ID=18218, Total_quantity=4),\n",
       " Row(Order ID=15254, Total_quantity=12),\n",
       " Row(Order ID=15100, Total_quantity=7),\n",
       " Row(Order ID=12367, Total_quantity=13),\n",
       " Row(Order ID=12006, Total_quantity=6),\n",
       " Row(Order ID=11280, Total_quantity=4),\n",
       " Row(Order ID=10121, Total_quantity=12),\n",
       " Row(Order ID=9182, Total_quantity=6),\n",
       " Row(Order ID=23709, Total_quantity=15),\n",
       " Row(Order ID=21859, Total_quantity=6),\n",
       " Row(Order ID=20268, Total_quantity=12),\n",
       " Row(Order ID=12715, Total_quantity=8),\n",
       " Row(Order ID=8932, Total_quantity=19),\n",
       " Row(Order ID=24355, Total_quantity=13),\n",
       " Row(Order ID=22970, Total_quantity=6),\n",
       " Row(Order ID=21715, Total_quantity=6),\n",
       " Row(Order ID=21116, Total_quantity=6),\n",
       " Row(Order ID=19758, Total_quantity=10),\n",
       " Row(Order ID=19499, Total_quantity=4),\n",
       " Row(Order ID=19351, Total_quantity=4),\n",
       " Row(Order ID=18956, Total_quantity=5),\n",
       " Row(Order ID=18595, Total_quantity=3),\n",
       " Row(Order ID=18467, Total_quantity=7),\n",
       " Row(Order ID=17607, Total_quantity=4),\n",
       " Row(Order ID=15003, Total_quantity=7),\n",
       " Row(Order ID=14536, Total_quantity=6),\n",
       " Row(Order ID=14148, Total_quantity=8),\n",
       " Row(Order ID=12611, Total_quantity=4),\n",
       " Row(Order ID=11710, Total_quantity=6),\n",
       " Row(Order ID=10914, Total_quantity=7),\n",
       " Row(Order ID=8928, Total_quantity=5),\n",
       " Row(Order ID=24985, Total_quantity=7),\n",
       " Row(Order ID=23607, Total_quantity=4),\n",
       " Row(Order ID=23455, Total_quantity=4),\n",
       " Row(Order ID=22555, Total_quantity=6),\n",
       " Row(Order ID=22412, Total_quantity=6),\n",
       " Row(Order ID=22021, Total_quantity=7),\n",
       " Row(Order ID=21558, Total_quantity=4),\n",
       " Row(Order ID=19886, Total_quantity=5),\n",
       " Row(Order ID=19614, Total_quantity=6),\n",
       " Row(Order ID=17688, Total_quantity=7),\n",
       " Row(Order ID=15967, Total_quantity=5),\n",
       " Row(Order ID=15538, Total_quantity=6),\n",
       " Row(Order ID=14514, Total_quantity=6),\n",
       " Row(Order ID=11500, Total_quantity=5),\n",
       " Row(Order ID=9879, Total_quantity=6),\n",
       " Row(Order ID=9564, Total_quantity=4),\n",
       " Row(Order ID=8803, Total_quantity=8),\n",
       " Row(Order ID=8105, Total_quantity=10),\n",
       " Row(Order ID=6393, Total_quantity=5),\n",
       " Row(Order ID=5614, Total_quantity=4),\n",
       " Row(Order ID=23706, Total_quantity=7),\n",
       " Row(Order ID=19669, Total_quantity=5),\n",
       " Row(Order ID=18201, Total_quantity=3),\n",
       " Row(Order ID=18479, Total_quantity=3),\n",
       " Row(Order ID=14075, Total_quantity=3),\n",
       " Row(Order ID=19878, Total_quantity=3),\n",
       " Row(Order ID=25227, Total_quantity=3),\n",
       " Row(Order ID=25106, Total_quantity=17),\n",
       " Row(Order ID=24504, Total_quantity=16),\n",
       " Row(Order ID=21633, Total_quantity=11),\n",
       " Row(Order ID=21058, Total_quantity=11),\n",
       " Row(Order ID=20506, Total_quantity=12),\n",
       " Row(Order ID=20467, Total_quantity=7),\n",
       " Row(Order ID=19868, Total_quantity=16),\n",
       " Row(Order ID=19413, Total_quantity=13),\n",
       " Row(Order ID=18502, Total_quantity=11),\n",
       " Row(Order ID=18221, Total_quantity=10),\n",
       " Row(Order ID=17751, Total_quantity=9),\n",
       " Row(Order ID=17708, Total_quantity=12),\n",
       " Row(Order ID=17077, Total_quantity=5),\n",
       " Row(Order ID=17044, Total_quantity=14),\n",
       " Row(Order ID=16534, Total_quantity=12),\n",
       " Row(Order ID=15655, Total_quantity=11),\n",
       " Row(Order ID=14420, Total_quantity=16),\n",
       " Row(Order ID=14377, Total_quantity=5),\n",
       " Row(Order ID=13875, Total_quantity=9),\n",
       " Row(Order ID=13060, Total_quantity=8),\n",
       " Row(Order ID=13009, Total_quantity=9),\n",
       " Row(Order ID=12139, Total_quantity=1),\n",
       " Row(Order ID=9558, Total_quantity=11),\n",
       " Row(Order ID=9517, Total_quantity=13),\n",
       " Row(Order ID=7387, Total_quantity=9),\n",
       " Row(Order ID=7281, Total_quantity=11),\n",
       " Row(Order ID=6482, Total_quantity=14),\n",
       " Row(Order ID=5984, Total_quantity=13),\n",
       " Row(Order ID=5287, Total_quantity=13),\n",
       " Row(Order ID=23144, Total_quantity=9),\n",
       " Row(Order ID=20052, Total_quantity=13),\n",
       " Row(Order ID=17008, Total_quantity=10),\n",
       " Row(Order ID=16924, Total_quantity=6),\n",
       " Row(Order ID=15207, Total_quantity=7),\n",
       " Row(Order ID=13483, Total_quantity=13),\n",
       " Row(Order ID=11800, Total_quantity=6),\n",
       " Row(Order ID=9454, Total_quantity=7),\n",
       " Row(Order ID=8407, Total_quantity=6),\n",
       " Row(Order ID=7850, Total_quantity=10),\n",
       " Row(Order ID=20134, Total_quantity=6),\n",
       " Row(Order ID=19526, Total_quantity=5),\n",
       " Row(Order ID=19023, Total_quantity=6),\n",
       " Row(Order ID=18503, Total_quantity=5),\n",
       " Row(Order ID=15173, Total_quantity=5),\n",
       " Row(Order ID=13910, Total_quantity=7),\n",
       " Row(Order ID=13207, Total_quantity=6),\n",
       " Row(Order ID=4489, Total_quantity=5),\n",
       " Row(Order ID=25203, Total_quantity=4),\n",
       " Row(Order ID=24719, Total_quantity=3),\n",
       " Row(Order ID=24078, Total_quantity=9),\n",
       " Row(Order ID=22951, Total_quantity=9),\n",
       " Row(Order ID=20120, Total_quantity=5),\n",
       " Row(Order ID=17837, Total_quantity=3),\n",
       " Row(Order ID=17028, Total_quantity=4),\n",
       " Row(Order ID=16791, Total_quantity=5),\n",
       " Row(Order ID=14714, Total_quantity=10),\n",
       " Row(Order ID=12998, Total_quantity=6),\n",
       " Row(Order ID=11936, Total_quantity=5),\n",
       " Row(Order ID=10862, Total_quantity=4),\n",
       " Row(Order ID=10798, Total_quantity=6),\n",
       " Row(Order ID=9162, Total_quantity=12),\n",
       " Row(Order ID=8222, Total_quantity=5),\n",
       " Row(Order ID=6622, Total_quantity=6),\n",
       " Row(Order ID=6266, Total_quantity=7),\n",
       " Row(Order ID=25150, Total_quantity=13),\n",
       " Row(Order ID=24747, Total_quantity=6),\n",
       " Row(Order ID=24630, Total_quantity=9),\n",
       " Row(Order ID=22609, Total_quantity=5),\n",
       " Row(Order ID=20398, Total_quantity=6),\n",
       " Row(Order ID=20029, Total_quantity=6),\n",
       " Row(Order ID=20020, Total_quantity=4),\n",
       " Row(Order ID=19683, Total_quantity=5),\n",
       " Row(Order ID=19619, Total_quantity=4),\n",
       " Row(Order ID=19131, Total_quantity=5),\n",
       " Row(Order ID=18382, Total_quantity=4),\n",
       " Row(Order ID=17809, Total_quantity=7),\n",
       " Row(Order ID=17783, Total_quantity=6),\n",
       " Row(Order ID=17775, Total_quantity=4),\n",
       " Row(Order ID=17754, Total_quantity=8),\n",
       " Row(Order ID=16680, Total_quantity=6),\n",
       " Row(Order ID=15296, Total_quantity=7),\n",
       " Row(Order ID=15162, Total_quantity=3),\n",
       " Row(Order ID=14997, Total_quantity=4),\n",
       " Row(Order ID=14324, Total_quantity=4),\n",
       " Row(Order ID=13601, Total_quantity=7),\n",
       " Row(Order ID=11639, Total_quantity=9),\n",
       " Row(Order ID=10708, Total_quantity=11),\n",
       " Row(Order ID=8924, Total_quantity=6),\n",
       " Row(Order ID=7879, Total_quantity=7),\n",
       " Row(Order ID=5345, Total_quantity=7),\n",
       " Row(Order ID=24855, Total_quantity=20),\n",
       " Row(Order ID=23868, Total_quantity=4),\n",
       " Row(Order ID=22684, Total_quantity=4),\n",
       " Row(Order ID=20247, Total_quantity=5),\n",
       " Row(Order ID=16283, Total_quantity=4),\n",
       " Row(Order ID=15738, Total_quantity=6),\n",
       " Row(Order ID=14289, Total_quantity=3),\n",
       " Row(Order ID=12393, Total_quantity=6),\n",
       " Row(Order ID=11393, Total_quantity=3),\n",
       " Row(Order ID=6559, Total_quantity=4),\n",
       " Row(Order ID=5117, Total_quantity=2),\n",
       " Row(Order ID=8257, Total_quantity=3),\n",
       " Row(Order ID=13648, Total_quantity=2),\n",
       " Row(Order ID=24664, Total_quantity=14),\n",
       " Row(Order ID=23439, Total_quantity=5),\n",
       " Row(Order ID=23367, Total_quantity=10),\n",
       " Row(Order ID=23123, Total_quantity=10),\n",
       " Row(Order ID=22107, Total_quantity=10),\n",
       " Row(Order ID=21761, Total_quantity=8),\n",
       " Row(Order ID=21545, Total_quantity=11),\n",
       " Row(Order ID=19165, Total_quantity=14),\n",
       " Row(Order ID=19161, Total_quantity=11),\n",
       " Row(Order ID=19138, Total_quantity=6),\n",
       " Row(Order ID=17223, Total_quantity=11),\n",
       " Row(Order ID=15575, Total_quantity=17),\n",
       " Row(Order ID=13465, Total_quantity=12),\n",
       " Row(Order ID=12292, Total_quantity=15),\n",
       " Row(Order ID=10768, Total_quantity=8),\n",
       " Row(Order ID=9071, Total_quantity=5),\n",
       " Row(Order ID=8743, Total_quantity=18),\n",
       " Row(Order ID=8109, Total_quantity=15),\n",
       " Row(Order ID=7910, Total_quantity=5),\n",
       " Row(Order ID=7066, Total_quantity=9),\n",
       " Row(Order ID=6597, Total_quantity=17),\n",
       " Row(Order ID=5223, Total_quantity=10),\n",
       " Row(Order ID=23267, Total_quantity=5),\n",
       " Row(Order ID=21412, Total_quantity=21),\n",
       " Row(Order ID=21296, Total_quantity=7),\n",
       " Row(Order ID=18759, Total_quantity=5),\n",
       " Row(Order ID=16828, Total_quantity=1),\n",
       " Row(Order ID=14809, Total_quantity=9),\n",
       " Row(Order ID=11146, Total_quantity=8),\n",
       " Row(Order ID=4937, Total_quantity=7),\n",
       " Row(Order ID=20425, Total_quantity=7),\n",
       " Row(Order ID=19729, Total_quantity=6),\n",
       " Row(Order ID=18828, Total_quantity=12),\n",
       " Row(Order ID=5074, Total_quantity=6),\n",
       " Row(Order ID=24690, Total_quantity=3),\n",
       " Row(Order ID=23086, Total_quantity=4),\n",
       " Row(Order ID=21938, Total_quantity=5),\n",
       " Row(Order ID=20624, Total_quantity=4),\n",
       " Row(Order ID=20170, Total_quantity=4),\n",
       " Row(Order ID=18043, Total_quantity=5),\n",
       " Row(Order ID=17437, Total_quantity=9),\n",
       " Row(Order ID=16224, Total_quantity=4),\n",
       " Row(Order ID=15382, Total_quantity=6),\n",
       " Row(Order ID=13898, Total_quantity=4),\n",
       " Row(Order ID=13508, Total_quantity=5),\n",
       " Row(Order ID=11713, Total_quantity=3),\n",
       " Row(Order ID=10468, Total_quantity=14),\n",
       " Row(Order ID=8779, Total_quantity=6),\n",
       " Row(Order ID=7644, Total_quantity=6),\n",
       " Row(Order ID=7530, Total_quantity=4),\n",
       " Row(Order ID=7098, Total_quantity=5),\n",
       " Row(Order ID=4684, Total_quantity=5),\n",
       " Row(Order ID=23694, Total_quantity=12),\n",
       " Row(Order ID=23658, Total_quantity=10),\n",
       " Row(Order ID=23193, Total_quantity=6),\n",
       " Row(Order ID=22965, Total_quantity=3),\n",
       " Row(Order ID=22899, Total_quantity=8),\n",
       " Row(Order ID=22225, Total_quantity=10),\n",
       " Row(Order ID=22185, Total_quantity=5),\n",
       " Row(Order ID=20481, Total_quantity=4),\n",
       " Row(Order ID=20473, Total_quantity=5),\n",
       " Row(Order ID=19021, Total_quantity=5),\n",
       " Row(Order ID=18746, Total_quantity=14),\n",
       " Row(Order ID=18539, Total_quantity=5),\n",
       " Row(Order ID=17193, Total_quantity=4),\n",
       " Row(Order ID=15604, Total_quantity=4),\n",
       " Row(Order ID=14315, Total_quantity=7),\n",
       " Row(Order ID=13188, Total_quantity=4),\n",
       " Row(Order ID=12366, Total_quantity=7),\n",
       " Row(Order ID=11630, Total_quantity=5),\n",
       " Row(Order ID=9946, Total_quantity=10),\n",
       " Row(Order ID=8911, Total_quantity=5),\n",
       " Row(Order ID=7120, Total_quantity=4),\n",
       " Row(Order ID=6598, Total_quantity=8),\n",
       " Row(Order ID=5482, Total_quantity=4),\n",
       " Row(Order ID=5308, Total_quantity=6),\n",
       " Row(Order ID=5155, Total_quantity=8),\n",
       " Row(Order ID=21394, Total_quantity=4),\n",
       " Row(Order ID=18884, Total_quantity=1),\n",
       " Row(Order ID=24200, Total_quantity=2),\n",
       " Row(Order ID=17712, Total_quantity=4),\n",
       " Row(Order ID=13916, Total_quantity=2),\n",
       " Row(Order ID=9169, Total_quantity=3),\n",
       " Row(Order ID=8650, Total_quantity=6),\n",
       " Row(Order ID=18838, Total_quantity=2),\n",
       " Row(Order ID=25520, Total_quantity=2),\n",
       " Row(Order ID=24612, Total_quantity=6),\n",
       " Row(Order ID=24258, Total_quantity=9),\n",
       " Row(Order ID=23362, Total_quantity=7),\n",
       " Row(Order ID=23286, Total_quantity=6),\n",
       " Row(Order ID=22215, Total_quantity=11),\n",
       " Row(Order ID=21769, Total_quantity=14),\n",
       " Row(Order ID=20719, Total_quantity=14),\n",
       " Row(Order ID=20388, Total_quantity=6),\n",
       " Row(Order ID=19149, Total_quantity=12),\n",
       " Row(Order ID=18825, Total_quantity=11),\n",
       " Row(Order ID=18529, Total_quantity=12),\n",
       " Row(Order ID=17950, Total_quantity=24),\n",
       " Row(Order ID=17190, Total_quantity=5),\n",
       " Row(Order ID=16565, Total_quantity=10),\n",
       " Row(Order ID=16232, Total_quantity=7),\n",
       " Row(Order ID=15429, Total_quantity=19),\n",
       " Row(Order ID=14944, Total_quantity=5),\n",
       " Row(Order ID=13923, Total_quantity=7),\n",
       " Row(Order ID=13765, Total_quantity=8),\n",
       " Row(Order ID=13398, Total_quantity=13),\n",
       " Row(Order ID=13329, Total_quantity=20),\n",
       " Row(Order ID=13225, Total_quantity=12),\n",
       " Row(Order ID=12607, Total_quantity=12),\n",
       " Row(Order ID=12284, Total_quantity=5),\n",
       " Row(Order ID=11928, Total_quantity=5),\n",
       " Row(Order ID=11352, Total_quantity=12),\n",
       " Row(Order ID=10815, Total_quantity=16),\n",
       " Row(Order ID=9647, Total_quantity=14),\n",
       " Row(Order ID=9403, Total_quantity=6),\n",
       " Row(Order ID=8716, Total_quantity=10),\n",
       " Row(Order ID=8678, Total_quantity=27),\n",
       " Row(Order ID=8665, Total_quantity=11),\n",
       " Row(Order ID=7576, Total_quantity=6),\n",
       " Row(Order ID=6301, Total_quantity=19),\n",
       " Row(Order ID=6154, Total_quantity=17),\n",
       " Row(Order ID=5740, Total_quantity=10),\n",
       " Row(Order ID=21978, Total_quantity=12),\n",
       " Row(Order ID=21035, Total_quantity=8),\n",
       " Row(Order ID=20195, Total_quantity=12),\n",
       " Row(Order ID=16094, Total_quantity=12),\n",
       " Row(Order ID=15535, Total_quantity=12),\n",
       " Row(Order ID=11482, Total_quantity=4),\n",
       " Row(Order ID=10632, Total_quantity=5),\n",
       " Row(Order ID=10567, Total_quantity=6),\n",
       " Row(Order ID=8501, Total_quantity=10),\n",
       " Row(Order ID=5907, Total_quantity=5),\n",
       " Row(Order ID=5513, Total_quantity=9),\n",
       " Row(Order ID=20485, Total_quantity=7),\n",
       " Row(Order ID=17154, Total_quantity=6),\n",
       " Row(Order ID=6934, Total_quantity=6),\n",
       " Row(Order ID=24139, Total_quantity=5),\n",
       " Row(Order ID=23284, Total_quantity=4),\n",
       " Row(Order ID=20898, Total_quantity=5),\n",
       " Row(Order ID=19396, Total_quantity=6),\n",
       " Row(Order ID=19317, Total_quantity=5),\n",
       " Row(Order ID=17113, Total_quantity=15),\n",
       " Row(Order ID=16999, Total_quantity=3),\n",
       " Row(Order ID=16706, Total_quantity=8),\n",
       " Row(Order ID=16117, Total_quantity=3),\n",
       " Row(Order ID=13795, Total_quantity=5),\n",
       " Row(Order ID=13504, Total_quantity=7),\n",
       " Row(Order ID=11520, Total_quantity=6),\n",
       " Row(Order ID=10840, Total_quantity=6),\n",
       " Row(Order ID=10788, Total_quantity=5),\n",
       " Row(Order ID=10527, Total_quantity=6),\n",
       " Row(Order ID=10395, Total_quantity=10),\n",
       " Row(Order ID=9206, Total_quantity=11),\n",
       " Row(Order ID=9153, Total_quantity=9),\n",
       " Row(Order ID=8211, Total_quantity=13),\n",
       " Row(Order ID=6962, Total_quantity=9),\n",
       " Row(Order ID=5157, Total_quantity=5),\n",
       " Row(Order ID=24254, Total_quantity=5),\n",
       " Row(Order ID=22443, Total_quantity=6),\n",
       " Row(Order ID=22064, Total_quantity=4),\n",
       " Row(Order ID=21675, Total_quantity=7),\n",
       " Row(Order ID=21672, Total_quantity=5),\n",
       " Row(Order ID=21389, Total_quantity=4),\n",
       " Row(Order ID=21373, Total_quantity=7),\n",
       " Row(Order ID=21298, Total_quantity=7),\n",
       " Row(Order ID=19531, Total_quantity=8),\n",
       " Row(Order ID=19067, Total_quantity=3),\n",
       " Row(Order ID=18614, Total_quantity=8),\n",
       " Row(Order ID=18334, Total_quantity=4),\n",
       " Row(Order ID=18328, Total_quantity=5),\n",
       " Row(Order ID=17836, Total_quantity=6),\n",
       " Row(Order ID=15960, Total_quantity=6),\n",
       " Row(Order ID=15292, Total_quantity=7),\n",
       " Row(Order ID=14770, Total_quantity=7),\n",
       " Row(Order ID=14752, Total_quantity=8),\n",
       " Row(Order ID=14713, Total_quantity=5),\n",
       " Row(Order ID=14660, Total_quantity=8),\n",
       " Row(Order ID=12322, Total_quantity=5),\n",
       " Row(Order ID=12249, Total_quantity=7),\n",
       " Row(Order ID=11745, Total_quantity=5),\n",
       " Row(Order ID=10032, Total_quantity=6),\n",
       " Row(Order ID=9775, Total_quantity=6),\n",
       " Row(Order ID=9597, Total_quantity=5),\n",
       " Row(Order ID=7333, Total_quantity=5),\n",
       " Row(Order ID=7324, Total_quantity=8),\n",
       " Row(Order ID=5697, Total_quantity=5),\n",
       " Row(Order ID=5695, Total_quantity=4),\n",
       " Row(Order ID=5433, Total_quantity=8),\n",
       " Row(Order ID=5217, Total_quantity=4),\n",
       " Row(Order ID=2096, Total_quantity=7),\n",
       " Row(Order ID=25316, Total_quantity=3),\n",
       " Row(Order ID=24578, Total_quantity=5),\n",
       " Row(Order ID=21151, Total_quantity=5),\n",
       " Row(Order ID=14779, Total_quantity=1),\n",
       " Row(Order ID=24890, Total_quantity=4),\n",
       " Row(Order ID=22652, Total_quantity=3),\n",
       " Row(Order ID=5578, Total_quantity=3),\n",
       " Row(Order ID=12210, Total_quantity=2),\n",
       " Row(Order ID=24587, Total_quantity=13),\n",
       " Row(Order ID=24482, Total_quantity=10),\n",
       " Row(Order ID=24128, Total_quantity=16),\n",
       " Row(Order ID=23740, Total_quantity=8),\n",
       " Row(Order ID=22903, Total_quantity=13),\n",
       " Row(Order ID=22236, Total_quantity=9),\n",
       " Row(Order ID=22116, Total_quantity=11),\n",
       " Row(Order ID=21667, Total_quantity=9),\n",
       " Row(Order ID=21307, Total_quantity=7),\n",
       " Row(Order ID=21303, Total_quantity=11),\n",
       " Row(Order ID=20717, Total_quantity=33),\n",
       " Row(Order ID=20671, Total_quantity=10),\n",
       " Row(Order ID=20124, Total_quantity=7),\n",
       " Row(Order ID=20050, Total_quantity=9),\n",
       " Row(Order ID=19180, Total_quantity=8),\n",
       " Row(Order ID=16985, Total_quantity=15),\n",
       " Row(Order ID=16526, Total_quantity=1),\n",
       " Row(Order ID=16506, Total_quantity=10),\n",
       " Row(Order ID=16295, Total_quantity=11),\n",
       " Row(Order ID=15594, Total_quantity=16),\n",
       " Row(Order ID=15146, Total_quantity=9),\n",
       " Row(Order ID=13997, Total_quantity=11),\n",
       " Row(Order ID=12184, Total_quantity=7),\n",
       " Row(Order ID=11243, Total_quantity=6),\n",
       " Row(Order ID=11143, Total_quantity=10),\n",
       " Row(Order ID=10264, Total_quantity=11),\n",
       " Row(Order ID=10257, Total_quantity=14),\n",
       " Row(Order ID=9181, Total_quantity=12),\n",
       " Row(Order ID=8229, Total_quantity=6),\n",
       " Row(Order ID=7584, Total_quantity=20),\n",
       " Row(Order ID=6396, Total_quantity=16),\n",
       " Row(Order ID=5995, Total_quantity=9),\n",
       " Row(Order ID=5847, Total_quantity=27),\n",
       " Row(Order ID=5527, Total_quantity=15),\n",
       " Row(Order ID=25355, Total_quantity=6),\n",
       " Row(Order ID=25259, Total_quantity=5),\n",
       " Row(Order ID=23479, Total_quantity=11),\n",
       " Row(Order ID=22364, Total_quantity=10),\n",
       " Row(Order ID=21077, Total_quantity=14),\n",
       " Row(Order ID=16119, Total_quantity=12),\n",
       " Row(Order ID=14365, Total_quantity=12),\n",
       " Row(Order ID=14124, Total_quantity=8),\n",
       " Row(Order ID=12207, Total_quantity=11),\n",
       " Row(Order ID=6552, Total_quantity=8),\n",
       " Row(Order ID=24407, Total_quantity=5),\n",
       " Row(Order ID=21383, Total_quantity=5),\n",
       " Row(Order ID=19998, Total_quantity=13),\n",
       " Row(Order ID=18741, Total_quantity=5),\n",
       " Row(Order ID=9675, Total_quantity=9),\n",
       " Row(Order ID=7892, Total_quantity=4),\n",
       " Row(Order ID=6866, Total_quantity=10),\n",
       " Row(Order ID=6176, Total_quantity=10),\n",
       " Row(Order ID=24464, Total_quantity=4),\n",
       " Row(Order ID=23457, Total_quantity=5),\n",
       " Row(Order ID=23434, Total_quantity=3),\n",
       " Row(Order ID=21603, Total_quantity=4),\n",
       " Row(Order ID=21126, Total_quantity=4),\n",
       " Row(Order ID=20542, Total_quantity=8),\n",
       " Row(Order ID=19690, Total_quantity=5),\n",
       " Row(Order ID=18831, Total_quantity=4),\n",
       " Row(Order ID=17438, Total_quantity=7),\n",
       " Row(Order ID=17036, Total_quantity=14),\n",
       " Row(Order ID=16549, Total_quantity=7),\n",
       " Row(Order ID=16510, Total_quantity=9),\n",
       " Row(Order ID=16027, Total_quantity=5),\n",
       " Row(Order ID=15647, Total_quantity=3),\n",
       " Row(Order ID=15026, Total_quantity=7),\n",
       " Row(Order ID=12264, Total_quantity=6),\n",
       " Row(Order ID=10416, Total_quantity=5),\n",
       " Row(Order ID=9575, Total_quantity=6),\n",
       " Row(Order ID=7404, Total_quantity=6),\n",
       " Row(Order ID=6937, Total_quantity=9),\n",
       " Row(Order ID=6832, Total_quantity=10),\n",
       " Row(Order ID=6722, Total_quantity=8),\n",
       " Row(Order ID=5110, Total_quantity=11),\n",
       " Row(Order ID=24787, Total_quantity=4),\n",
       " Row(Order ID=24633, Total_quantity=10),\n",
       " Row(Order ID=22787, Total_quantity=5),\n",
       " Row(Order ID=21632, Total_quantity=6),\n",
       " Row(Order ID=21484, Total_quantity=5),\n",
       " Row(Order ID=20789, Total_quantity=3),\n",
       " Row(Order ID=19965, Total_quantity=6),\n",
       " Row(Order ID=19701, Total_quantity=4),\n",
       " Row(Order ID=17346, Total_quantity=4),\n",
       " Row(Order ID=15462, Total_quantity=8),\n",
       " Row(Order ID=15070, Total_quantity=7),\n",
       " Row(Order ID=14054, Total_quantity=7),\n",
       " Row(Order ID=13500, Total_quantity=6),\n",
       " Row(Order ID=13468, Total_quantity=6),\n",
       " Row(Order ID=12694, Total_quantity=7),\n",
       " Row(Order ID=10786, Total_quantity=11),\n",
       " Row(Order ID=10090, Total_quantity=5),\n",
       " Row(Order ID=9914, Total_quantity=4),\n",
       " Row(Order ID=9344, Total_quantity=5),\n",
       " Row(Order ID=7987, Total_quantity=6),\n",
       " Row(Order ID=7810, Total_quantity=5),\n",
       " Row(Order ID=7109, Total_quantity=4),\n",
       " Row(Order ID=6890, Total_quantity=6),\n",
       " Row(Order ID=19833, Total_quantity=5),\n",
       " Row(Order ID=18881, Total_quantity=1),\n",
       " Row(Order ID=18307, Total_quantity=5),\n",
       " Row(Order ID=14458, Total_quantity=4),\n",
       " Row(Order ID=8701, Total_quantity=5),\n",
       " Row(Order ID=6864, Total_quantity=6),\n",
       " Row(Order ID=24997, Total_quantity=2),\n",
       " Row(Order ID=14874, Total_quantity=3),\n",
       " Row(Order ID=18296, Total_quantity=3),\n",
       " Row(Order ID=24926, Total_quantity=17),\n",
       " Row(Order ID=24299, Total_quantity=8),\n",
       " Row(Order ID=23141, Total_quantity=12),\n",
       " Row(Order ID=23000, Total_quantity=5),\n",
       " Row(Order ID=22349, Total_quantity=7),\n",
       " Row(Order ID=22068, Total_quantity=11),\n",
       " Row(Order ID=22003, Total_quantity=7),\n",
       " Row(Order ID=21710, Total_quantity=19),\n",
       " Row(Order ID=20903, Total_quantity=5),\n",
       " Row(Order ID=20132, Total_quantity=9),\n",
       " Row(Order ID=19428, Total_quantity=7),\n",
       " Row(Order ID=19335, Total_quantity=9),\n",
       " Row(Order ID=19084, Total_quantity=16),\n",
       " Row(Order ID=18966, Total_quantity=6),\n",
       " Row(Order ID=18673, Total_quantity=7),\n",
       " Row(Order ID=18405, Total_quantity=7),\n",
       " Row(Order ID=17613, Total_quantity=15),\n",
       " Row(Order ID=15558, Total_quantity=9),\n",
       " Row(Order ID=14812, Total_quantity=4),\n",
       " Row(Order ID=14030, Total_quantity=13),\n",
       " Row(Order ID=12530, Total_quantity=12),\n",
       " Row(Order ID=11402, Total_quantity=8),\n",
       " Row(Order ID=10605, Total_quantity=7),\n",
       " Row(Order ID=10128, Total_quantity=9),\n",
       " Row(Order ID=8950, Total_quantity=10),\n",
       " Row(Order ID=8857, Total_quantity=14),\n",
       " Row(Order ID=6010, Total_quantity=15),\n",
       " Row(Order ID=5061, Total_quantity=10),\n",
       " Row(Order ID=4799, Total_quantity=7),\n",
       " Row(Order ID=22307, Total_quantity=9),\n",
       " Row(Order ID=22040, Total_quantity=7),\n",
       " Row(Order ID=17782, Total_quantity=6),\n",
       " Row(Order ID=16257, Total_quantity=16),\n",
       " Row(Order ID=15983, Total_quantity=7),\n",
       " Row(Order ID=13544, Total_quantity=11),\n",
       " Row(Order ID=8612, Total_quantity=10),\n",
       " Row(Order ID=5670, Total_quantity=8),\n",
       " Row(Order ID=4838, Total_quantity=13),\n",
       " Row(Order ID=17904, Total_quantity=12),\n",
       " Row(Order ID=14245, Total_quantity=8),\n",
       " Row(Order ID=22713, Total_quantity=9),\n",
       " Row(Order ID=20742, Total_quantity=4),\n",
       " Row(Order ID=20221, Total_quantity=7),\n",
       " Row(Order ID=16724, Total_quantity=9),\n",
       " Row(Order ID=16255, Total_quantity=6),\n",
       " Row(Order ID=14477, Total_quantity=5),\n",
       " Row(Order ID=12260, Total_quantity=4),\n",
       " Row(Order ID=11459, Total_quantity=7),\n",
       " Row(Order ID=11014, Total_quantity=4),\n",
       " Row(Order ID=9338, Total_quantity=4),\n",
       " Row(Order ID=8640, Total_quantity=8),\n",
       " Row(Order ID=8450, Total_quantity=7),\n",
       " Row(Order ID=8249, Total_quantity=6),\n",
       " Row(Order ID=7206, Total_quantity=6),\n",
       " Row(Order ID=4583, Total_quantity=10),\n",
       " Row(Order ID=22389, Total_quantity=6),\n",
       " Row(Order ID=20982, Total_quantity=7),\n",
       " Row(Order ID=20674, Total_quantity=4),\n",
       " Row(Order ID=19912, Total_quantity=6),\n",
       " Row(Order ID=19733, Total_quantity=9),\n",
       " Row(Order ID=19066, Total_quantity=5),\n",
       " Row(Order ID=19063, Total_quantity=6),\n",
       " Row(Order ID=17903, Total_quantity=5),\n",
       " Row(Order ID=17677, Total_quantity=4),\n",
       " Row(Order ID=17378, Total_quantity=3),\n",
       " Row(Order ID=16391, Total_quantity=10),\n",
       " Row(Order ID=15584, Total_quantity=5),\n",
       " Row(Order ID=14284, Total_quantity=11),\n",
       " Row(Order ID=13313, Total_quantity=6),\n",
       " Row(Order ID=11550, Total_quantity=5),\n",
       " Row(Order ID=9475, Total_quantity=6),\n",
       " Row(Order ID=8927, Total_quantity=4),\n",
       " Row(Order ID=8482, Total_quantity=4),\n",
       " Row(Order ID=7736, Total_quantity=5),\n",
       " Row(Order ID=7222, Total_quantity=8),\n",
       " Row(Order ID=5929, Total_quantity=4),\n",
       " Row(Order ID=5140, Total_quantity=5),\n",
       " Row(Order ID=24252, Total_quantity=3),\n",
       " Row(Order ID=23874, Total_quantity=1),\n",
       " Row(Order ID=20631, Total_quantity=5),\n",
       " Row(Order ID=20354, Total_quantity=5),\n",
       " Row(Order ID=17213, Total_quantity=1),\n",
       " Row(Order ID=16601, Total_quantity=3),\n",
       " Row(Order ID=16505, Total_quantity=4),\n",
       " Row(Order ID=11287, Total_quantity=11),\n",
       " Row(Order ID=10882, Total_quantity=3),\n",
       " Row(Order ID=10013, Total_quantity=5),\n",
       " Row(Order ID=9721, Total_quantity=6),\n",
       " Row(Order ID=8409, Total_quantity=4),\n",
       " Row(Order ID=4612, Total_quantity=4),\n",
       " Row(Order ID=23403, Total_quantity=5),\n",
       " Row(Order ID=19092, Total_quantity=6),\n",
       " Row(Order ID=15216, Total_quantity=2),\n",
       " Row(Order ID=11487, Total_quantity=2),\n",
       " Row(Order ID=8534, Total_quantity=5),\n",
       " Row(Order ID=21306, Total_quantity=2),\n",
       " Row(Order ID=25507, Total_quantity=17),\n",
       " Row(Order ID=25262, Total_quantity=10),\n",
       " Row(Order ID=24740, Total_quantity=7),\n",
       " Row(Order ID=24331, Total_quantity=6),\n",
       " Row(Order ID=22966, Total_quantity=15),\n",
       " Row(Order ID=22824, Total_quantity=11),\n",
       " Row(Order ID=22382, Total_quantity=7),\n",
       " Row(Order ID=20409, Total_quantity=11),\n",
       " Row(Order ID=20056, Total_quantity=8),\n",
       " Row(Order ID=19686, Total_quantity=7),\n",
       " Row(Order ID=19627, Total_quantity=12),\n",
       " Row(Order ID=19328, Total_quantity=1),\n",
       " Row(Order ID=18174, Total_quantity=8),\n",
       " Row(Order ID=16954, Total_quantity=14),\n",
       " Row(Order ID=16947, Total_quantity=1),\n",
       " Row(Order ID=16835, Total_quantity=16),\n",
       " Row(Order ID=16800, Total_quantity=9),\n",
       " Row(Order ID=15634, Total_quantity=20),\n",
       " Row(Order ID=15348, Total_quantity=16),\n",
       " Row(Order ID=14771, Total_quantity=14),\n",
       " Row(Order ID=12559, Total_quantity=6),\n",
       " Row(Order ID=11894, Total_quantity=7),\n",
       " Row(Order ID=11024, Total_quantity=11),\n",
       " Row(Order ID=10947, Total_quantity=6),\n",
       " Row(Order ID=10530, Total_quantity=8),\n",
       " Row(Order ID=9731, Total_quantity=13),\n",
       " Row(Order ID=9470, Total_quantity=10),\n",
       " Row(Order ID=8664, Total_quantity=16),\n",
       " Row(Order ID=8627, Total_quantity=12),\n",
       " Row(Order ID=8146, Total_quantity=14),\n",
       " Row(Order ID=6142, Total_quantity=19),\n",
       " Row(Order ID=5867, Total_quantity=13),\n",
       " Row(Order ID=5457, Total_quantity=6),\n",
       " Row(Order ID=5030, Total_quantity=8),\n",
       " Row(Order ID=25169, Total_quantity=9),\n",
       " Row(Order ID=22964, Total_quantity=7),\n",
       " Row(Order ID=20931, Total_quantity=6),\n",
       " Row(Order ID=15161, Total_quantity=9),\n",
       " Row(Order ID=9433, Total_quantity=5),\n",
       " Row(Order ID=9258, Total_quantity=5),\n",
       " Row(Order ID=7283, Total_quantity=16),\n",
       " Row(Order ID=6378, Total_quantity=6),\n",
       " Row(Order ID=4624, Total_quantity=16),\n",
       " Row(Order ID=23696, Total_quantity=9),\n",
       " Row(Order ID=23609, Total_quantity=6),\n",
       " Row(Order ID=22695, Total_quantity=9),\n",
       " Row(Order ID=17924, Total_quantity=9),\n",
       " Row(Order ID=17502, Total_quantity=12),\n",
       " Row(Order ID=4697, Total_quantity=12),\n",
       " Row(Order ID=23487, Total_quantity=12),\n",
       " Row(Order ID=23303, Total_quantity=6),\n",
       " Row(Order ID=22917, Total_quantity=5),\n",
       " Row(Order ID=22884, Total_quantity=8),\n",
       " Row(Order ID=22857, Total_quantity=5),\n",
       " Row(Order ID=21369, Total_quantity=3),\n",
       " Row(Order ID=20223, Total_quantity=3),\n",
       " Row(Order ID=17392, Total_quantity=7),\n",
       " Row(Order ID=15966, Total_quantity=5),\n",
       " Row(Order ID=14760, Total_quantity=5),\n",
       " Row(Order ID=14532, Total_quantity=5),\n",
       " Row(Order ID=12118, Total_quantity=8),\n",
       " Row(Order ID=11194, Total_quantity=4),\n",
       " Row(Order ID=10443, Total_quantity=6),\n",
       " Row(Order ID=10183, Total_quantity=6),\n",
       " Row(Order ID=10143, Total_quantity=12),\n",
       " Row(Order ID=9867, Total_quantity=3),\n",
       " Row(Order ID=8845, Total_quantity=5),\n",
       " Row(Order ID=8145, Total_quantity=6),\n",
       " Row(Order ID=8051, Total_quantity=5),\n",
       " Row(Order ID=6082, Total_quantity=5),\n",
       " Row(Order ID=5949, Total_quantity=8),\n",
       " Row(Order ID=4531, Total_quantity=6),\n",
       " Row(Order ID=24518, Total_quantity=7),\n",
       " Row(Order ID=23993, Total_quantity=6),\n",
       " Row(Order ID=23682, Total_quantity=6),\n",
       " Row(Order ID=22469, Total_quantity=6),\n",
       " Row(Order ID=22313, Total_quantity=5),\n",
       " Row(Order ID=21909, Total_quantity=6),\n",
       " Row(Order ID=21508, Total_quantity=4),\n",
       " Row(Order ID=21467, Total_quantity=7),\n",
       " Row(Order ID=19976, Total_quantity=5),\n",
       " Row(Order ID=17462, Total_quantity=8),\n",
       " Row(Order ID=16766, Total_quantity=6),\n",
       " Row(Order ID=14556, Total_quantity=5),\n",
       " Row(Order ID=13701, Total_quantity=4),\n",
       " Row(Order ID=12727, Total_quantity=7),\n",
       " Row(Order ID=12723, Total_quantity=5),\n",
       " Row(Order ID=12344, Total_quantity=6),\n",
       " Row(Order ID=12238, Total_quantity=8),\n",
       " Row(Order ID=10532, Total_quantity=4),\n",
       " Row(Order ID=10366, Total_quantity=6),\n",
       " Row(Order ID=8231, Total_quantity=11),\n",
       " Row(Order ID=6911, Total_quantity=9),\n",
       " Row(Order ID=6678, Total_quantity=4),\n",
       " Row(Order ID=5211, Total_quantity=6),\n",
       " Row(Order ID=24168, Total_quantity=6),\n",
       " Row(Order ID=22045, Total_quantity=5),\n",
       " Row(Order ID=17396, Total_quantity=7),\n",
       " Row(Order ID=16741, Total_quantity=4),\n",
       " Row(Order ID=12757, Total_quantity=4),\n",
       " Row(Order ID=10267, Total_quantity=4),\n",
       " Row(Order ID=9925, Total_quantity=3),\n",
       " Row(Order ID=19440, Total_quantity=3),\n",
       " Row(Order ID=5692, Total_quantity=3),\n",
       " Row(Order ID=21201, Total_quantity=3),\n",
       " Row(Order ID=21462, Total_quantity=3),\n",
       " Row(Order ID=25055, Total_quantity=10),\n",
       " Row(Order ID=23974, Total_quantity=8),\n",
       " Row(Order ID=23421, Total_quantity=7),\n",
       " Row(Order ID=22942, Total_quantity=4),\n",
       " Row(Order ID=22638, Total_quantity=12),\n",
       " Row(Order ID=19567, Total_quantity=5),\n",
       " Row(Order ID=19284, Total_quantity=12),\n",
       " Row(Order ID=19048, Total_quantity=4),\n",
       " Row(Order ID=18750, Total_quantity=13),\n",
       " Row(Order ID=18107, Total_quantity=8),\n",
       " Row(Order ID=17969, Total_quantity=6),\n",
       " Row(Order ID=17774, Total_quantity=9),\n",
       " Row(Order ID=16234, Total_quantity=10),\n",
       " Row(Order ID=15968, Total_quantity=6),\n",
       " Row(Order ID=15270, Total_quantity=8),\n",
       " Row(Order ID=7169, Total_quantity=8),\n",
       " Row(Order ID=5251, Total_quantity=10),\n",
       " Row(Order ID=23206, Total_quantity=9),\n",
       " Row(Order ID=21517, Total_quantity=13),\n",
       " Row(Order ID=14437, Total_quantity=7),\n",
       " Row(Order ID=12436, Total_quantity=5),\n",
       " Row(Order ID=10303, Total_quantity=12),\n",
       " Row(Order ID=10293, Total_quantity=14),\n",
       " Row(Order ID=8628, Total_quantity=7),\n",
       " Row(Order ID=7817, Total_quantity=21),\n",
       " Row(Order ID=6145, Total_quantity=8),\n",
       " Row(Order ID=5543, Total_quantity=3),\n",
       " Row(Order ID=5222, Total_quantity=8),\n",
       " Row(Order ID=24288, Total_quantity=9),\n",
       " Row(Order ID=12401, Total_quantity=9),\n",
       " Row(Order ID=10022, Total_quantity=5),\n",
       " Row(Order ID=4725, Total_quantity=7),\n",
       " Row(Order ID=25243, Total_quantity=5),\n",
       " Row(Order ID=23047, Total_quantity=6),\n",
       " Row(Order ID=23010, Total_quantity=3),\n",
       " Row(Order ID=20785, Total_quantity=9),\n",
       " Row(Order ID=20554, Total_quantity=9),\n",
       " Row(Order ID=20163, Total_quantity=4),\n",
       " Row(Order ID=19678, Total_quantity=3),\n",
       " Row(Order ID=19346, Total_quantity=16),\n",
       " Row(Order ID=18908, Total_quantity=3),\n",
       " Row(Order ID=18860, Total_quantity=6),\n",
       " Row(Order ID=18708, Total_quantity=7),\n",
       " Row(Order ID=17972, Total_quantity=4),\n",
       " Row(Order ID=17525, Total_quantity=7),\n",
       " Row(Order ID=15973, Total_quantity=6),\n",
       " Row(Order ID=13214, Total_quantity=6),\n",
       " Row(Order ID=12315, Total_quantity=5),\n",
       " Row(Order ID=12085, Total_quantity=3),\n",
       " Row(Order ID=11468, Total_quantity=3),\n",
       " Row(Order ID=9898, Total_quantity=4),\n",
       " Row(Order ID=9324, Total_quantity=9),\n",
       " Row(Order ID=7131, Total_quantity=5),\n",
       " Row(Order ID=6939, Total_quantity=6),\n",
       " Row(Order ID=6108, Total_quantity=6),\n",
       " Row(Order ID=5934, Total_quantity=4),\n",
       " Row(Order ID=4512, Total_quantity=5),\n",
       " Row(Order ID=25434, Total_quantity=10),\n",
       " Row(Order ID=24210, Total_quantity=4),\n",
       " Row(Order ID=23619, Total_quantity=6),\n",
       " Row(Order ID=23581, Total_quantity=4),\n",
       " Row(Order ID=21682, Total_quantity=5),\n",
       " Row(Order ID=20316, Total_quantity=4),\n",
       " Row(Order ID=20314, Total_quantity=4),\n",
       " Row(Order ID=19940, Total_quantity=5),\n",
       " Row(Order ID=19358, Total_quantity=5),\n",
       " Row(Order ID=18613, Total_quantity=4),\n",
       " Row(Order ID=18304, Total_quantity=6),\n",
       " Row(Order ID=18014, Total_quantity=4),\n",
       " Row(Order ID=17926, Total_quantity=6),\n",
       " Row(Order ID=17265, Total_quantity=6),\n",
       " Row(Order ID=16648, Total_quantity=9),\n",
       " Row(Order ID=16317, Total_quantity=5),\n",
       " Row(Order ID=15164, Total_quantity=8),\n",
       " Row(Order ID=14058, Total_quantity=9),\n",
       " Row(Order ID=13528, Total_quantity=8),\n",
       " Row(Order ID=12523, Total_quantity=10),\n",
       " Row(Order ID=11405, Total_quantity=4),\n",
       " Row(Order ID=10912, Total_quantity=6),\n",
       " Row(Order ID=10435, Total_quantity=5),\n",
       " Row(Order ID=10195, Total_quantity=7),\n",
       " Row(Order ID=9488, Total_quantity=5),\n",
       " Row(Order ID=8085, Total_quantity=4),\n",
       " Row(Order ID=5529, Total_quantity=5),\n",
       " Row(Order ID=20738, Total_quantity=5),\n",
       " Row(Order ID=19757, Total_quantity=1),\n",
       " Row(Order ID=9035, Total_quantity=5),\n",
       " Row(Order ID=6237, Total_quantity=6),\n",
       " Row(Order ID=22983, Total_quantity=2),\n",
       " Row(Order ID=25146, Total_quantity=2),\n",
       " Row(Order ID=24011, Total_quantity=2),\n",
       " Row(Order ID=15091, Total_quantity=2),\n",
       " Row(Order ID=8042, Total_quantity=2),\n",
       " Row(Order ID=25254, Total_quantity=6),\n",
       " Row(Order ID=25190, Total_quantity=5),\n",
       " Row(Order ID=23215, Total_quantity=7),\n",
       " Row(Order ID=22414, Total_quantity=12),\n",
       " Row(Order ID=22361, Total_quantity=13),\n",
       " Row(Order ID=22265, Total_quantity=8),\n",
       " Row(Order ID=21200, Total_quantity=10),\n",
       " Row(Order ID=19862, Total_quantity=8),\n",
       " Row(Order ID=18652, Total_quantity=13),\n",
       " Row(Order ID=17067, Total_quantity=24),\n",
       " Row(Order ID=16813, Total_quantity=6),\n",
       " Row(Order ID=16544, Total_quantity=12),\n",
       " Row(Order ID=15191, Total_quantity=19),\n",
       " Row(Order ID=13915, Total_quantity=12),\n",
       " Row(Order ID=13516, Total_quantity=6),\n",
       " Row(Order ID=13494, Total_quantity=7),\n",
       " Row(Order ID=12014, Total_quantity=9),\n",
       " Row(Order ID=12008, Total_quantity=10),\n",
       " Row(Order ID=11885, Total_quantity=13),\n",
       " Row(Order ID=11452, Total_quantity=17),\n",
       " Row(Order ID=7132, Total_quantity=6),\n",
       " Row(Order ID=7092, Total_quantity=16),\n",
       " Row(Order ID=6913, Total_quantity=11),\n",
       " Row(Order ID=4796, Total_quantity=11),\n",
       " Row(Order ID=21049, Total_quantity=13),\n",
       " Row(Order ID=20642, Total_quantity=4),\n",
       " Row(Order ID=17639, Total_quantity=9),\n",
       " Row(Order ID=15491, Total_quantity=8),\n",
       " Row(Order ID=13172, Total_quantity=19),\n",
       " Row(Order ID=13046, Total_quantity=7),\n",
       " Row(Order ID=11609, Total_quantity=9),\n",
       " Row(Order ID=9730, Total_quantity=4),\n",
       " Row(Order ID=5383, Total_quantity=9),\n",
       " Row(Order ID=5235, Total_quantity=6),\n",
       " Row(Order ID=22024, Total_quantity=6),\n",
       " Row(Order ID=17253, Total_quantity=6),\n",
       " Row(Order ID=13288, Total_quantity=3),\n",
       " Row(Order ID=5375, Total_quantity=5),\n",
       " Row(Order ID=25081, Total_quantity=7),\n",
       " Row(Order ID=24994, Total_quantity=10),\n",
       " Row(Order ID=23491, Total_quantity=10),\n",
       " Row(Order ID=21804, Total_quantity=5),\n",
       " Row(Order ID=21175, Total_quantity=3),\n",
       " Row(Order ID=20540, Total_quantity=4),\n",
       " Row(Order ID=20125, Total_quantity=12),\n",
       " Row(Order ID=20058, Total_quantity=3),\n",
       " Row(Order ID=19532, Total_quantity=7),\n",
       " Row(Order ID=17430, Total_quantity=4),\n",
       " Row(Order ID=15658, Total_quantity=7),\n",
       " Row(Order ID=14085, Total_quantity=11),\n",
       " Row(Order ID=13003, Total_quantity=5),\n",
       " Row(Order ID=12169, Total_quantity=6),\n",
       " Row(Order ID=12007, Total_quantity=5),\n",
       " Row(Order ID=11642, Total_quantity=6),\n",
       " Row(Order ID=11589, Total_quantity=4),\n",
       " Row(Order ID=9968, Total_quantity=5),\n",
       " Row(Order ID=7726, Total_quantity=7),\n",
       " Row(Order ID=6689, Total_quantity=9),\n",
       " Row(Order ID=6188, Total_quantity=15),\n",
       " Row(Order ID=5298, Total_quantity=9),\n",
       " Row(Order ID=4923, Total_quantity=4),\n",
       " Row(Order ID=25168, Total_quantity=7),\n",
       " Row(Order ID=24819, Total_quantity=8),\n",
       " Row(Order ID=23850, Total_quantity=8),\n",
       " Row(Order ID=22366, Total_quantity=4),\n",
       " Row(Order ID=21904, Total_quantity=3),\n",
       " Row(Order ID=21311, Total_quantity=8),\n",
       " Row(Order ID=21073, Total_quantity=5),\n",
       " Row(Order ID=20800, Total_quantity=5),\n",
       " Row(Order ID=20672, Total_quantity=8),\n",
       " Row(Order ID=20490, Total_quantity=3),\n",
       " Row(Order ID=19480, Total_quantity=8),\n",
       " Row(Order ID=18827, Total_quantity=7),\n",
       " Row(Order ID=18645, Total_quantity=8),\n",
       " Row(Order ID=17554, Total_quantity=7),\n",
       " Row(Order ID=17225, Total_quantity=4),\n",
       " Row(Order ID=16032, Total_quantity=7),\n",
       " Row(Order ID=14658, Total_quantity=8),\n",
       " Row(Order ID=13967, Total_quantity=6),\n",
       " Row(Order ID=12336, Total_quantity=13),\n",
       " Row(Order ID=9006, Total_quantity=8),\n",
       " Row(Order ID=8350, Total_quantity=6),\n",
       " Row(Order ID=7342, Total_quantity=8),\n",
       " Row(Order ID=6157, Total_quantity=6),\n",
       " Row(Order ID=5571, Total_quantity=4),\n",
       " Row(Order ID=4798, Total_quantity=8),\n",
       " Row(Order ID=4782, Total_quantity=7),\n",
       " Row(Order ID=4713, Total_quantity=6),\n",
       " Row(Order ID=24176, Total_quantity=4),\n",
       " Row(Order ID=6732, Total_quantity=4),\n",
       " Row(Order ID=11478, Total_quantity=6),\n",
       " Row(Order ID=5916, Total_quantity=1),\n",
       " Row(Order ID=25512, Total_quantity=8),\n",
       " Row(Order ID=25292, Total_quantity=14),\n",
       " Row(Order ID=25099, Total_quantity=8),\n",
       " Row(Order ID=25092, Total_quantity=6),\n",
       " Row(Order ID=24939, Total_quantity=5),\n",
       " Row(Order ID=23994, Total_quantity=16),\n",
       " Row(Order ID=23986, Total_quantity=8),\n",
       " Row(Order ID=23496, Total_quantity=11),\n",
       " Row(Order ID=23371, Total_quantity=7),\n",
       " ...]"
      ]
     },
     "execution_count": 10,
     "metadata": {},
     "output_type": "execute_result"
    }
   ],
   "source": [
    "df.groupBy(\"Order ID\").agg(sum(\"Quantity\").alias(\"Total_quantity\")).collect()  #show() --> 20 items"
   ]
  },
  {
   "cell_type": "code",
   "execution_count": null,
   "metadata": {
    "colab": {
     "base_uri": "https://localhost:8080/"
    },
    "executionInfo": {
     "elapsed": 780,
     "status": "ok",
     "timestamp": 1740551794423,
     "user": {
      "displayName": "0123_Nguyễn Bá Tuấn Anh",
      "userId": "05150973192516695832"
     },
     "user_tz": -420
    },
    "id": "c5euuY6S2haa",
    "outputId": "2e08e1d3-05c5-4334-eed9-a69c9f9d3d98"
   },
   "outputs": [
    {
     "name": "stdout",
     "output_type": "stream",
     "text": [
      "+--------+--------------+\n",
      "|Order ID|Total_quantity|\n",
      "+--------+--------------+\n",
      "|   25583|            14|\n",
      "+--------+--------------+\n",
      "\n"
     ]
    }
   ],
   "source": [
    "df.groupBy(\"Order ID\").agg(sum(\"Quantity\").alias(\"Total_quantity\")).filter(col(\"Order ID\") == 25583).show()"
   ]
  },
  {
   "cell_type": "code",
   "execution_count": null,
   "metadata": {
    "colab": {
     "base_uri": "https://localhost:8080/"
    },
    "executionInfo": {
     "elapsed": 1131,
     "status": "ok",
     "timestamp": 1740551795556,
     "user": {
      "displayName": "0123_Nguyễn Bá Tuấn Anh",
      "userId": "05150973192516695832"
     },
     "user_tz": -420
    },
    "id": "09SEXKNs2hd8",
    "outputId": "3c650138-d0d9-4bc8-a184-0f22c095f2d8"
   },
   "outputs": [
    {
     "name": "stdout",
     "output_type": "stream",
     "text": [
      "+--------+--------------+------------+\n",
      "|Order ID|Total_quantity|Total_amount|\n",
      "+--------+--------------+------------+\n",
      "|   25517|             4|       24.35|\n",
      "|   24663|             6|       24.65|\n",
      "|   24347|            13|        30.5|\n",
      "|   24171|             4|        17.9|\n",
      "|   21700|            10|       46.15|\n",
      "|   21220|             6|       19.65|\n",
      "|   20924|             6|        25.8|\n",
      "|   20497|            15|       52.75|\n",
      "|   20382|             9|        20.9|\n",
      "|   19553|             8|       25.85|\n",
      "|   19204|             8|        28.7|\n",
      "|   18944|             9|        25.9|\n",
      "|   18498|             7|       27.75|\n",
      "|   12046|            12|       35.05|\n",
      "|   11858|            12|        32.0|\n",
      "|   11033|             5|        20.3|\n",
      "|   10623|            10|       17.25|\n",
      "|   10362|             7|        27.9|\n",
      "|   10206|            14|        54.8|\n",
      "|    9900|            18|       72.15|\n",
      "+--------+--------------+------------+\n",
      "only showing top 20 rows\n",
      "\n"
     ]
    }
   ],
   "source": [
    "df.groupBy(\"Order ID\").agg(sum(\"Quantity\").alias(\"Total_quantity\"), round(sum(df.Quantity * col(\"Product Price\")),2).alias(\"Total_amount\")).show()"
   ]
  },
  {
   "cell_type": "code",
   "execution_count": null,
   "metadata": {
    "colab": {
     "base_uri": "https://localhost:8080/"
    },
    "executionInfo": {
     "elapsed": 1034,
     "status": "ok",
     "timestamp": 1740551796591,
     "user": {
      "displayName": "0123_Nguyễn Bá Tuấn Anh",
      "userId": "05150973192516695832"
     },
     "user_tz": -420
    },
    "id": "HyUj3m7u5AVE",
    "outputId": "d4840443-4a62-47e9-9374-75b7f88e2c15"
   },
   "outputs": [
    {
     "name": "stdout",
     "output_type": "stream",
     "text": [
      "+--------+--------------+------------+\n",
      "|Order ID|Total_quantity|Total_amount|\n",
      "+--------+--------------+------------+\n",
      "|   25517|             4|       24.35|\n",
      "|   24663|             6|       24.65|\n",
      "|   24347|            13|        30.5|\n",
      "|   24171|             4|        17.9|\n",
      "|   21700|            10|       46.15|\n",
      "|   21220|             6|       19.65|\n",
      "|   20924|             6|        25.8|\n",
      "|   20497|            15|       52.75|\n",
      "|   20382|             9|        20.9|\n",
      "|   19553|             8|       25.85|\n",
      "|   19204|             8|        28.7|\n",
      "|   18944|             9|        25.9|\n",
      "|   18498|             7|       27.75|\n",
      "|   12046|            12|       35.05|\n",
      "|   11858|            12|        32.0|\n",
      "|   11033|             5|        20.3|\n",
      "|   10623|            10|       17.25|\n",
      "|   10362|             7|        27.9|\n",
      "|   10206|            14|        54.8|\n",
      "|    9900|            18|       72.15|\n",
      "+--------+--------------+------------+\n",
      "only showing top 20 rows\n",
      "\n"
     ]
    }
   ],
   "source": [
    "df.groupBy(\"Order ID\").agg(expr(\"sum(Quantity) as Total_quantity\"), expr(\"round(sum(Quantity * `Product Price`),2) as Total_amount\")).show()"
   ]
  },
  {
   "cell_type": "code",
   "execution_count": null,
   "metadata": {
    "colab": {
     "base_uri": "https://localhost:8080/"
    },
    "executionInfo": {
     "elapsed": 740,
     "status": "ok",
     "timestamp": 1740551797356,
     "user": {
      "displayName": "0123_Nguyễn Bá Tuấn Anh",
      "userId": "05150973192516695832"
     },
     "user_tz": -420
    },
    "id": "8ArcXv5v5AXL",
    "outputId": "4758945a-4deb-4592-b509-adfee1c50a7a"
   },
   "outputs": [
    {
     "name": "stdout",
     "output_type": "stream",
     "text": [
      "+--------+--------------+------------+\n",
      "|Order ID|Total_quantity|Total_amount|\n",
      "+--------+--------------+------------+\n",
      "|   25517|             4|       24.35|\n",
      "|   24663|             6|       24.65|\n",
      "|   24347|            13|        30.5|\n",
      "|   24171|             4|        17.9|\n",
      "|   21700|            10|       46.15|\n",
      "|   21220|             6|       19.65|\n",
      "|   20924|             6|        25.8|\n",
      "|   20497|            15|       52.75|\n",
      "|   20382|             9|        20.9|\n",
      "|   19553|             8|       25.85|\n",
      "|   19204|             8|        28.7|\n",
      "|   18944|             9|        25.9|\n",
      "|   18498|             7|       27.75|\n",
      "|   12046|            12|       35.05|\n",
      "|   11858|            12|        32.0|\n",
      "|   11033|             5|        20.3|\n",
      "|   10623|            10|       17.25|\n",
      "|   10362|             7|        27.9|\n",
      "|   10206|            14|        54.8|\n",
      "|    9900|            18|       72.15|\n",
      "+--------+--------------+------------+\n",
      "only showing top 20 rows\n",
      "\n"
     ]
    }
   ],
   "source": [
    "spark.sql(\"\"\"\n",
    "    SELECT\n",
    "        `Order ID`,\n",
    "        sum(Quantity) as Total_quantity,\n",
    "        round(sum(Quantity * `Product Price`),2) as Total_amount\n",
    "    FROM orders\n",
    "    GROUP BY `Order ID`\n",
    "\"\"\").show()"
   ]
  },
  {
   "cell_type": "code",
   "execution_count": null,
   "metadata": {
    "id": "9CyE0OPw7D3X"
   },
   "outputs": [],
   "source": [
    "# thống kê số lượng sản phẩm bán ra theo từng loại xét theo năm"
   ]
  },
  {
   "cell_type": "code",
   "execution_count": null,
   "metadata": {
    "colab": {
     "base_uri": "https://localhost:8080/"
    },
    "executionInfo": {
     "elapsed": 5625,
     "status": "ok",
     "timestamp": 1740551802991,
     "user": {
      "displayName": "0123_Nguyễn Bá Tuấn Anh",
      "userId": "05150973192516695832"
     },
     "user_tz": -420
    },
    "id": "egekG1_A7D5U",
    "outputId": "3bdd5e3a-a9fc-4ada-a9e5-3115e965ae4b"
   },
   "outputs": [
    {
     "name": "stdout",
     "output_type": "stream",
     "text": [
      "+--------------------+----------+--------------+\n",
      "|           Item Name|Order Year|Total Quantity|\n",
      "+--------------------+----------+--------------+\n",
      "|          Keema Naan|      2019|           217|\n",
      "|        Graps Specil|      2017|             9|\n",
      "|          Mint Sauce|      NULL|          1985|\n",
      "|      Dupiaza - Lamb|      NULL|            45|\n",
      "|    Vegetable Dansak|      2018|            12|\n",
      "|       Jeera Chicken|      2019|             6|\n",
      "|               Korma|      2017|           438|\n",
      "|Bhuna - chicken-t...|      NULL|             8|\n",
      "|         Prawn Puree|      2017|            80|\n",
      "|     Garlic Mushroom|      2019|             7|\n",
      "|        Royal Paneer|      2018|            31|\n",
      "|     Vegetable Samba|      2018|             1|\n",
      "|     Garlic Mushroom|      2017|             7|\n",
      "|    Pathia - chicken|      2018|             7|\n",
      "|     Bhuna - Chicken|      NULL|           149|\n",
      "|     Mushroom Bhajee|      NULL|           370|\n",
      "|         Chana Chaat|      2019|             7|\n",
      "|        Aloo Dupiaza|      2017|            12|\n",
      "|    Vegetable Masala|      2017|             3|\n",
      "|        Paneer Kurma|      2017|             1|\n",
      "+--------------------+----------+--------------+\n",
      "only showing top 20 rows\n",
      "\n"
     ]
    }
   ],
   "source": [
    "# 1. Convert 'Order Date' to date type\n",
    "# Assuming 'Order Date' is in 'MM/dd/yyyy HH:mm' format, adjust if necessary\n",
    "# The original format \"MM/dd/yyyy\" was incorrect and caused the error.\n",
    "df = df.withColumn(\"Order Date\", to_date(col(\"Order Date\"), \"MM/dd/yyyy HH:mm\"))\n",
    "\n",
    "# 2. Extract the year from 'Order Date'\n",
    "df = df.withColumn(\"Order Year\", year(col(\"Order Date\")))\n",
    "\n",
    "# 3. Group by 'Item Name' and 'Order Year' and sum the quantities\n",
    "product_sales_by_year = df.groupBy(\"Item Name\", \"Order Year\").agg(\n",
    "    sum(\"Quantity\").alias(\"Total Quantity\")\n",
    ")\n",
    "\n",
    "# 4. Display the results\n",
    "product_sales_by_year.show()"
   ]
  },
  {
   "cell_type": "markdown",
   "metadata": {
    "id": "mlnQbh-yFI3W"
   },
   "source": [
    "---"
   ]
  },
  {
   "cell_type": "code",
   "execution_count": 4,
   "metadata": {
    "executionInfo": {
     "elapsed": 3,
     "status": "ok",
     "timestamp": 1740553112396,
     "user": {
      "displayName": "0235_Nguyễn Thị Quỳnh Như",
      "userId": "06243649248555655157"
     },
     "user_tz": -420
    },
    "id": "RJmUTy8C7D81"
   },
   "outputs": [],
   "source": [
    "from pyspark.sql import SparkSession\n",
    "from pyspark.sql.functions import *"
   ]
  },
  {
   "cell_type": "code",
   "execution_count": 5,
   "metadata": {
    "executionInfo": {
     "elapsed": 9322,
     "status": "ok",
     "timestamp": 1740553170543,
     "user": {
      "displayName": "0235_Nguyễn Thị Quỳnh Như",
      "userId": "06243649248555655157"
     },
     "user_tz": -420
    },
    "id": "p0oUTTAV5Aaw"
   },
   "outputs": [],
   "source": [
    "sprk = SparkSession.builder.appName('Exercise_1_cont').getOrCreate()"
   ]
  },
  {
   "cell_type": "code",
   "execution_count": 29,
   "metadata": {
    "executionInfo": {
     "elapsed": 2419,
     "status": "ok",
     "timestamp": 1740555147269,
     "user": {
      "displayName": "0235_Nguyễn Thị Quỳnh Như",
      "userId": "06243649248555655157"
     },
     "user_tz": -420
    },
    "id": "_MJV8wDaDENq"
   },
   "outputs": [],
   "source": [
    "file_path = '/content/sample_data/restaurant-orders.csv'\n",
    "df = sprk.read.csv(file_path, header=True, inferSchema=True)"
   ]
  },
  {
   "cell_type": "code",
   "execution_count": 30,
   "metadata": {
    "colab": {
     "base_uri": "https://localhost:8080/"
    },
    "executionInfo": {
     "elapsed": 206,
     "status": "ok",
     "timestamp": 1740555147476,
     "user": {
      "displayName": "0235_Nguyễn Thị Quỳnh Như",
      "userId": "06243649248555655157"
     },
     "user_tz": -420
    },
    "id": "FF9R2dPvDhbG",
    "outputId": "11d98cc8-4a07-403b-aa0c-b7f0ec51e180"
   },
   "outputs": [
    {
     "name": "stdout",
     "output_type": "stream",
     "text": [
      "root\n",
      " |-- Order ID: integer (nullable = true)\n",
      " |-- Order Date: string (nullable = true)\n",
      " |-- Item Name: string (nullable = true)\n",
      " |-- Quantity: integer (nullable = true)\n",
      " |-- Product Price: double (nullable = true)\n",
      " |-- Total products: integer (nullable = true)\n",
      "\n"
     ]
    }
   ],
   "source": [
    "df.printSchema()"
   ]
  },
  {
   "cell_type": "code",
   "execution_count": 19,
   "metadata": {
    "colab": {
     "base_uri": "https://localhost:8080/"
    },
    "executionInfo": {
     "elapsed": 80,
     "status": "ok",
     "timestamp": 1740554653229,
     "user": {
      "displayName": "0235_Nguyễn Thị Quỳnh Như",
      "userId": "06243649248555655157"
     },
     "user_tz": -420
    },
    "id": "VdRDLSb2Dspe",
    "outputId": "b13a7a84-549f-4f84-d0f5-fe417b6f4540"
   },
   "outputs": [
    {
     "name": "stdout",
     "output_type": "stream",
     "text": [
      "root\n",
      " |-- Order ID: integer (nullable = true)\n",
      " |-- Order Date: string (nullable = true)\n",
      " |-- Item Name: string (nullable = true)\n",
      " |-- Quantity: integer (nullable = true)\n",
      " |-- Product Price: double (nullable = true)\n",
      " |-- Total products: integer (nullable = true)\n",
      " |-- Order Date (new): date (nullable = true)\n",
      "\n"
     ]
    }
   ],
   "source": [
    "transformed_df = df.withColumn(\"Order Date (new)\", to_date(col(\"Order Date\"), \"MM/dd/yyyy HH:mm\"))\n",
    "transformed_df.printSchema()"
   ]
  },
  {
   "cell_type": "code",
   "execution_count": 20,
   "metadata": {
    "colab": {
     "base_uri": "https://localhost:8080/"
    },
    "executionInfo": {
     "elapsed": 125,
     "status": "ok",
     "timestamp": 1740554657090,
     "user": {
      "displayName": "0235_Nguyễn Thị Quỳnh Như",
      "userId": "06243649248555655157"
     },
     "user_tz": -420
    },
    "id": "8LE7KnQgD2NO",
    "outputId": "9f7ffc0e-b47d-43fb-9a73-59c5197b5d0f"
   },
   "outputs": [
    {
     "name": "stdout",
     "output_type": "stream",
     "text": [
      "+--------+----------------+--------------------+--------+-------------+--------------+----------------+\n",
      "|Order ID|      Order Date|           Item Name|Quantity|Product Price|Total products|Order Date (new)|\n",
      "+--------+----------------+--------------------+--------+-------------+--------------+----------------+\n",
      "|   25583|03/08/2019 21:58|Tandoori Mixed Grill|       1|        11.95|            12|      2019-03-08|\n",
      "|   25583|03/08/2019 21:58|        Madras Sauce|       1|         3.95|            12|      2019-03-08|\n",
      "|   25583|03/08/2019 21:58|       Mushroom Rice|       2|         3.95|            12|      2019-03-08|\n",
      "|   25583|03/08/2019 21:58|         Garlic Naan|       1|         2.95|            12|      2019-03-08|\n",
      "|   25583|03/08/2019 21:58|             Paratha|       1|         2.95|            12|      2019-03-08|\n",
      "|   25583|03/08/2019 21:58|          Plain Rice|       1|         2.95|            12|      2019-03-08|\n",
      "|   25583|03/08/2019 21:58|         Prawn Puree|       1|         4.95|            12|      2019-03-08|\n",
      "|   25583|03/08/2019 21:58|       Plain Papadum|       1|          0.8|            12|      2019-03-08|\n",
      "|   25583|03/08/2019 21:58|       Mango Chutney|       2|          0.5|            12|      2019-03-08|\n",
      "|   25583|03/08/2019 21:58|       Onion Chutney|       1|          0.5|            12|      2019-03-08|\n",
      "|   25583|03/08/2019 21:58|          Mint Sauce|       1|          0.5|            12|      2019-03-08|\n",
      "|   25583|03/08/2019 21:58|Chicken Tikka Masala|       1|         8.95|            12|      2019-03-08|\n",
      "|   25582|03/08/2019 20:33|Tandoori King Pra...|       1|        12.95|             5|      2019-03-08|\n",
      "|   25582|03/08/2019 20:33|          Pilau Rice|       1|         2.95|             5|      2019-03-08|\n",
      "|   25582|03/08/2019 20:33|       Peshwari Naan|       1|         2.95|             5|      2019-03-08|\n",
      "|   25582|03/08/2019 20:33|         Bottle Coke|       1|         2.95|             5|      2019-03-08|\n",
      "|   25582|03/08/2019 20:33|      Butter Chicken|       1|         8.95|             5|      2019-03-08|\n",
      "|   25581|03/08/2019 20:01|         Saag Paneer|       1|         5.95|             5|      2019-03-08|\n",
      "|   25581|03/08/2019 20:01|             Chapati|       1|         1.95|             5|      2019-03-08|\n",
      "|   25581|03/08/2019 20:01|         Onion Bhaji|       1|         3.95|             5|      2019-03-08|\n",
      "+--------+----------------+--------------------+--------+-------------+--------------+----------------+\n",
      "only showing top 20 rows\n",
      "\n"
     ]
    }
   ],
   "source": [
    "transformed_df.show()"
   ]
  },
  {
   "cell_type": "code",
   "execution_count": 11,
   "metadata": {
    "colab": {
     "base_uri": "https://localhost:8080/"
    },
    "executionInfo": {
     "elapsed": 255,
     "status": "ok",
     "timestamp": 1740553874589,
     "user": {
      "displayName": "0235_Nguyễn Thị Quỳnh Như",
      "userId": "06243649248555655157"
     },
     "user_tz": -420
    },
    "id": "gUoICJvRE-Jx",
    "outputId": "138754d7-f43e-4179-aabf-1802b90b3aa4"
   },
   "outputs": [
    {
     "name": "stdout",
     "output_type": "stream",
     "text": [
      "root\n",
      " |-- Order ID: integer (nullable = true)\n",
      " |-- Order Date: timestamp (nullable = true)\n",
      " |-- Item Name: string (nullable = true)\n",
      " |-- Quantity: integer (nullable = true)\n",
      " |-- Product Price: double (nullable = true)\n",
      " |-- Total products: integer (nullable = true)\n",
      "\n"
     ]
    }
   ],
   "source": [
    "df = df.withColumn(\"Order Date\", col(\"Order Date\").cast(\"timestamp\"))\n",
    "df.printSchema()"
   ]
  },
  {
   "cell_type": "code",
   "execution_count": 12,
   "metadata": {
    "colab": {
     "base_uri": "https://localhost:8080/"
    },
    "executionInfo": {
     "elapsed": 142,
     "status": "ok",
     "timestamp": 1740553886891,
     "user": {
      "displayName": "0235_Nguyễn Thị Quỳnh Như",
      "userId": "06243649248555655157"
     },
     "user_tz": -420
    },
    "id": "_Y4NGZI3GGj_",
    "outputId": "b470288c-c6e1-4283-9594-8e0ee1b4241d"
   },
   "outputs": [
    {
     "name": "stdout",
     "output_type": "stream",
     "text": [
      "+--------+----------+--------------------+--------+-------------+--------------+\n",
      "|Order ID|Order Date|           Item Name|Quantity|Product Price|Total products|\n",
      "+--------+----------+--------------------+--------+-------------+--------------+\n",
      "|   25583|      NULL|Tandoori Mixed Grill|       1|        11.95|            12|\n",
      "|   25583|      NULL|        Madras Sauce|       1|         3.95|            12|\n",
      "|   25583|      NULL|       Mushroom Rice|       2|         3.95|            12|\n",
      "|   25583|      NULL|         Garlic Naan|       1|         2.95|            12|\n",
      "|   25583|      NULL|             Paratha|       1|         2.95|            12|\n",
      "|   25583|      NULL|          Plain Rice|       1|         2.95|            12|\n",
      "|   25583|      NULL|         Prawn Puree|       1|         4.95|            12|\n",
      "|   25583|      NULL|       Plain Papadum|       1|          0.8|            12|\n",
      "|   25583|      NULL|       Mango Chutney|       2|          0.5|            12|\n",
      "|   25583|      NULL|       Onion Chutney|       1|          0.5|            12|\n",
      "|   25583|      NULL|          Mint Sauce|       1|          0.5|            12|\n",
      "|   25583|      NULL|Chicken Tikka Masala|       1|         8.95|            12|\n",
      "|   25582|      NULL|Tandoori King Pra...|       1|        12.95|             5|\n",
      "|   25582|      NULL|          Pilau Rice|       1|         2.95|             5|\n",
      "|   25582|      NULL|       Peshwari Naan|       1|         2.95|             5|\n",
      "|   25582|      NULL|         Bottle Coke|       1|         2.95|             5|\n",
      "|   25582|      NULL|      Butter Chicken|       1|         8.95|             5|\n",
      "|   25581|      NULL|         Saag Paneer|       1|         5.95|             5|\n",
      "|   25581|      NULL|             Chapati|       1|         1.95|             5|\n",
      "|   25581|      NULL|         Onion Bhaji|       1|         3.95|             5|\n",
      "+--------+----------+--------------------+--------+-------------+--------------+\n",
      "only showing top 20 rows\n",
      "\n"
     ]
    }
   ],
   "source": [
    "df.show()"
   ]
  },
  {
   "cell_type": "code",
   "execution_count": 31,
   "metadata": {
    "colab": {
     "base_uri": "https://localhost:8080/"
    },
    "executionInfo": {
     "elapsed": 76,
     "status": "ok",
     "timestamp": 1740555164492,
     "user": {
      "displayName": "0235_Nguyễn Thị Quỳnh Như",
      "userId": "06243649248555655157"
     },
     "user_tz": -420
    },
    "id": "zx_jpq8bGJV0",
    "outputId": "ffd3a7b7-fb1b-49a7-e58f-9f0312dcf6a5"
   },
   "outputs": [
    {
     "name": "stdout",
     "output_type": "stream",
     "text": [
      "root\n",
      " |-- Order ID: integer (nullable = true)\n",
      " |-- Order Date: timestamp (nullable = true)\n",
      " |-- Item Name: string (nullable = true)\n",
      " |-- Quantity: integer (nullable = true)\n",
      " |-- Product Price: double (nullable = true)\n",
      " |-- Total products: integer (nullable = true)\n",
      "\n"
     ]
    }
   ],
   "source": [
    "df = df.withColumn(\"Order Date\", to_timestamp(col(\"Order Date\"), \"MM/dd/yyyy HH:mm\"))\n",
    "df.printSchema()"
   ]
  },
  {
   "cell_type": "code",
   "execution_count": 32,
   "metadata": {
    "colab": {
     "base_uri": "https://localhost:8080/"
    },
    "executionInfo": {
     "elapsed": 87,
     "status": "ok",
     "timestamp": 1740555167857,
     "user": {
      "displayName": "0235_Nguyễn Thị Quỳnh Như",
      "userId": "06243649248555655157"
     },
     "user_tz": -420
    },
    "id": "egjF-5cJGkuy",
    "outputId": "bdb46903-3ecd-4520-f45f-6a5c5a8b2d04"
   },
   "outputs": [
    {
     "name": "stdout",
     "output_type": "stream",
     "text": [
      "+--------+-------------------+--------------------+--------+-------------+--------------+\n",
      "|Order ID|         Order Date|           Item Name|Quantity|Product Price|Total products|\n",
      "+--------+-------------------+--------------------+--------+-------------+--------------+\n",
      "|   25583|2019-03-08 21:58:00|Tandoori Mixed Grill|       1|        11.95|            12|\n",
      "|   25583|2019-03-08 21:58:00|        Madras Sauce|       1|         3.95|            12|\n",
      "|   25583|2019-03-08 21:58:00|       Mushroom Rice|       2|         3.95|            12|\n",
      "|   25583|2019-03-08 21:58:00|         Garlic Naan|       1|         2.95|            12|\n",
      "|   25583|2019-03-08 21:58:00|             Paratha|       1|         2.95|            12|\n",
      "|   25583|2019-03-08 21:58:00|          Plain Rice|       1|         2.95|            12|\n",
      "|   25583|2019-03-08 21:58:00|         Prawn Puree|       1|         4.95|            12|\n",
      "|   25583|2019-03-08 21:58:00|       Plain Papadum|       1|          0.8|            12|\n",
      "|   25583|2019-03-08 21:58:00|       Mango Chutney|       2|          0.5|            12|\n",
      "|   25583|2019-03-08 21:58:00|       Onion Chutney|       1|          0.5|            12|\n",
      "+--------+-------------------+--------------------+--------+-------------+--------------+\n",
      "only showing top 10 rows\n",
      "\n"
     ]
    }
   ],
   "source": [
    "df.show(10)"
   ]
  },
  {
   "cell_type": "code",
   "execution_count": null,
   "metadata": {
    "id": "oPZkbPrFGmew"
   },
   "outputs": [],
   "source": [
    "transformed_df.createOrReplaceGlobalTempView(\"orders\")"
   ]
  },
  {
   "cell_type": "code",
   "execution_count": 33,
   "metadata": {
    "executionInfo": {
     "elapsed": 85,
     "status": "ok",
     "timestamp": 1740555175076,
     "user": {
      "displayName": "0235_Nguyễn Thị Quỳnh Như",
      "userId": "06243649248555655157"
     },
     "user_tz": -420
    },
    "id": "e6rSiPREJbeZ"
   },
   "outputs": [],
   "source": [
    "df.createOrReplaceTempView(\"orders\")"
   ]
  },
  {
   "cell_type": "code",
   "execution_count": 22,
   "metadata": {
    "colab": {
     "base_uri": "https://localhost:8080/",
     "height": 203
    },
    "executionInfo": {
     "elapsed": 209,
     "status": "ok",
     "timestamp": 1740554826767,
     "user": {
      "displayName": "0235_Nguyễn Thị Quỳnh Như",
      "userId": "06243649248555655157"
     },
     "user_tz": -420
    },
    "id": "w-fSnbD4JkpB",
    "outputId": "b684b78c-2088-46c4-bb7f-c229d3978d17"
   },
   "outputs": [
    {
     "data": {
      "text/html": [
       "<div style=\"max-width:800px; border: 1px solid var(--colab-border-color);\"><style>\n",
       "      pre.function-repr-contents {\n",
       "        overflow-x: auto;\n",
       "        padding: 8px 12px;\n",
       "        max-height: 500px;\n",
       "      }\n",
       "\n",
       "      pre.function-repr-contents.function-repr-contents-collapsed {\n",
       "        cursor: pointer;\n",
       "        max-height: 100px;\n",
       "      }\n",
       "    </style>\n",
       "    <pre style=\"white-space: initial; background:\n",
       "         var(--colab-secondary-surface-color); padding: 8px 12px;\n",
       "         border-bottom: 1px solid var(--colab-border-color);\"><b>pyspark.sql.dataframe.DataFrame.show</b><br/>def show(n: int=20, truncate: Union[bool, int]=True, vertical: bool=False) -&gt; None</pre><pre class=\"function-repr-contents function-repr-contents-collapsed\" style=\"\"><a class=\"filepath\" style=\"display:none\" href=\"#\">/usr/local/lib/python3.11/dist-packages/pyspark/sql/dataframe.py</a>Prints the first ``n`` rows to the console.\n",
       "\n",
       ".. versionadded:: 1.3.0\n",
       "\n",
       ".. versionchanged:: 3.4.0\n",
       "    Supports Spark Connect.\n",
       "\n",
       "Parameters\n",
       "----------\n",
       "n : int, optional\n",
       "    Number of rows to show.\n",
       "truncate : bool or int, optional\n",
       "    If set to ``True``, truncate strings longer than 20 chars by default.\n",
       "    If set to a number greater than one, truncates long strings to length ``truncate``\n",
       "    and align cells right.\n",
       "vertical : bool, optional\n",
       "    If set to ``True``, print output rows vertically (one line\n",
       "    per column value).\n",
       "\n",
       "Examples\n",
       "--------\n",
       "&gt;&gt;&gt; df = spark.createDataFrame([\n",
       "...     (14, &quot;Tom&quot;), (23, &quot;Alice&quot;), (16, &quot;Bob&quot;)], [&quot;age&quot;, &quot;name&quot;])\n",
       "\n",
       "Show only top 2 rows.\n",
       "\n",
       "&gt;&gt;&gt; df.show(2)\n",
       "+---+-----+\n",
       "|age| name|\n",
       "+---+-----+\n",
       "| 14|  Tom|\n",
       "| 23|Alice|\n",
       "+---+-----+\n",
       "only showing top 2 rows\n",
       "\n",
       "Show :class:`DataFrame` where the maximum number of characters is 3.\n",
       "\n",
       "&gt;&gt;&gt; df.show(truncate=3)\n",
       "+---+----+\n",
       "|age|name|\n",
       "+---+----+\n",
       "| 14| Tom|\n",
       "| 23| Ali|\n",
       "| 16| Bob|\n",
       "+---+----+\n",
       "\n",
       "Show :class:`DataFrame` vertically.\n",
       "\n",
       "&gt;&gt;&gt; df.show(vertical=True)\n",
       "-RECORD 0-----\n",
       "age  | 14\n",
       "name | Tom\n",
       "-RECORD 1-----\n",
       "age  | 23\n",
       "name | Alice\n",
       "-RECORD 2-----\n",
       "age  | 16\n",
       "name | Bob</pre>\n",
       "      <script>\n",
       "      if (google.colab.kernel.accessAllowed && google.colab.files && google.colab.files.view) {\n",
       "        for (const element of document.querySelectorAll('.filepath')) {\n",
       "          element.style.display = 'block'\n",
       "          element.onclick = (event) => {\n",
       "            event.preventDefault();\n",
       "            event.stopPropagation();\n",
       "            google.colab.files.view(element.textContent, 887);\n",
       "          };\n",
       "        }\n",
       "      }\n",
       "      for (const element of document.querySelectorAll('.function-repr-contents')) {\n",
       "        element.onclick = (event) => {\n",
       "          event.preventDefault();\n",
       "          event.stopPropagation();\n",
       "          element.classList.toggle('function-repr-contents-collapsed');\n",
       "        };\n",
       "      }\n",
       "      </script>\n",
       "      </div>"
      ],
      "text/plain": [
       "<bound method DataFrame.show of DataFrame[Order ID: int, Order Date: string, Item Name: string, Quantity: int, Product Price: double, Total products: int]>"
      ]
     },
     "execution_count": 22,
     "metadata": {},
     "output_type": "execute_result"
    }
   ],
   "source": [
    "sprk.sql(\"SELECT * FROM orders\").show"
   ]
  },
  {
   "cell_type": "code",
   "execution_count": null,
   "metadata": {
    "colab": {
     "base_uri": "https://localhost:8080/"
    },
    "executionInfo": {
     "elapsed": 8686,
     "status": "ok",
     "timestamp": 1740555187433,
     "user": {
      "displayName": "0235_Nguyễn Thị Quỳnh Như",
      "userId": "06243649248555655157"
     },
     "user_tz": -420
    },
    "id": "GQGAdExwJvB8",
    "outputId": "6e6bc5a5-1cb0-4bbd-bc65-c183c15ca46e"
   },
   "outputs": [
    {
     "name": "stdout",
     "output_type": "stream",
     "text": [
      "+---------+--------+----+\n",
      "|Item Name|Quantity|Year|\n",
      "+---------+--------+----+\n",
      "|Item Name|       1|2019|\n",
      "|Item Name|       1|2019|\n",
      "|Item Name|       2|2019|\n",
      "|Item Name|       1|2019|\n",
      "|Item Name|       1|2019|\n",
      "|Item Name|       1|2019|\n",
      "|Item Name|       1|2019|\n",
      "|Item Name|       1|2019|\n",
      "|Item Name|       2|2019|\n",
      "|Item Name|       1|2019|\n",
      "|Item Name|       1|2019|\n",
      "|Item Name|       1|2019|\n",
      "|Item Name|       1|2019|\n",
      "|Item Name|       1|2019|\n",
      "|Item Name|       1|2019|\n",
      "|Item Name|       1|2019|\n",
      "|Item Name|       1|2019|\n",
      "|Item Name|       1|2019|\n",
      "|Item Name|       1|2019|\n",
      "|Item Name|       1|2019|\n",
      "+---------+--------+----+\n",
      "only showing top 20 rows\n",
      "\n"
     ]
    }
   ],
   "source": [
    "sprk.sql(\"SELECT `Item Name`, Quantity, date_format(`Order Date`, 'yyyy') as Year FROM orders\").show()"
   ]
  },
  {
   "cell_type": "code",
   "execution_count": 25,
   "metadata": {
    "colab": {
     "base_uri": "https://localhost:8080/"
    },
    "executionInfo": {
     "elapsed": 3024,
     "status": "ok",
     "timestamp": 1740555085501,
     "user": {
      "displayName": "0235_Nguyễn Thị Quỳnh Như",
      "userId": "06243649248555655157"
     },
     "user_tz": -420
    },
    "id": "ZBgvS8rTJ2vp",
    "outputId": "0725bfbd-0e22-4473-8a6a-42fb12b05414"
   },
   "outputs": [
    {
     "name": "stdout",
     "output_type": "stream",
     "text": [
      "+--------------------+----+------+\n",
      "|           Item Name|Year|Amount|\n",
      "+--------------------+----+------+\n",
      "|          Mint Sauce|NULL|  3208|\n",
      "|      Dupiaza - Lamb|NULL|    68|\n",
      "|    Lamb Tikka Balti|NULL|    95|\n",
      "|   Vegetable Biryani|NULL|   234|\n",
      "|Bhuna - chicken-t...|NULL|    10|\n",
      "|     Mushroom Bhajee|NULL|   584|\n",
      "|     Bhuna - Chicken|NULL|   239|\n",
      "|           Saag Aloo|NULL|  2089|\n",
      "|Malaya - Chicken ...|NULL|    16|\n",
      "|             Dhansak|NULL|   512|\n",
      "|        Madras Sauce|NULL|   233|\n",
      "|            Vindaloo|NULL|   387|\n",
      "|         Prawn Puree|NULL|   844|\n",
      "|      Grapes Special|NULL|   368|\n",
      "|             Dupiaza|NULL|   261|\n",
      "|     Chicken Biryani|NULL|  1071|\n",
      "|   Lamb Tikka (Main)|NULL|    88|\n",
      "|       Mushroom Rice|NULL|  3424|\n",
      "|Cylon - chicken-t...|NULL|     1|\n",
      "|Korma - Chicken T...|NULL|    80|\n",
      "+--------------------+----+------+\n",
      "only showing top 20 rows\n",
      "\n"
     ]
    }
   ],
   "source": [
    "sprk.sql(\"SELECT `Item Name`, date_format(`Order Date`, 'yyyy') as Year, sum(Quantity) as Amount FROM orders GROUP BY `Item Name`, Year\").show()"
   ]
  },
  {
   "cell_type": "code",
   "execution_count": 38,
   "metadata": {
    "colab": {
     "base_uri": "https://localhost:8080/"
    },
    "executionInfo": {
     "elapsed": 7653,
     "status": "ok",
     "timestamp": 1740555628025,
     "user": {
      "displayName": "0235_Nguyễn Thị Quỳnh Như",
      "userId": "06243649248555655157"
     },
     "user_tz": -420
    },
    "id": "uZcpJYVpKtgs",
    "outputId": "84c79d3b-b119-4f69-f9fc-40220dd24447"
   },
   "outputs": [
    {
     "name": "stdout",
     "output_type": "stream",
     "text": [
      "+--------------------+----+----+----+----+----+\n",
      "|           Item Name|null|2016|2017|2018|2019|\n",
      "+--------------------+----+----+----+----+----+\n",
      "|      Dupiaza - Lamb|  45|NULL|NULL|   8|  15|\n",
      "|          Mint Sauce|1985| 141| 392| 404| 286|\n",
      "|    Lamb Tikka Balti|  49|   2|   9|  24|  11|\n",
      "|Bhuna - chicken-t...|   8|NULL|NULL|   2|NULL|\n",
      "|   Vegetable Biryani| 143|  16|  18|  26|  31|\n",
      "|     Bhuna - Chicken| 149|NULL|NULL|  42|  48|\n",
      "|     Mushroom Bhajee| 370|  22|  67|  73|  52|\n",
      "|           Saag Aloo|1249| 116| 265| 284| 175|\n",
      "|Malaya - Chicken ...|  13|NULL|NULL|   1|   2|\n",
      "|             Dhansak| 308|  50| 114|  40|NULL|\n",
      "|       Korma - prawn|   2|NULL|NULL|   1|NULL|\n",
      "|        Madras Sauce| 135|   3|  15|  38|  42|\n",
      "|            Vindaloo| 230|  35|  93|  29|NULL|\n",
      "|         Prawn Puree| 522|  37|  80| 116|  89|\n",
      "|   Saag - king-prawn|NULL|NULL|NULL|   1|NULL|\n",
      "|      Grapes Special| 218|  17|  42|  56|  35|\n",
      "|  Korma - King Prawn|  17|NULL|NULL|   2|   5|\n",
      "|        Saag - Prawn|NULL|NULL|NULL|   1|NULL|\n",
      "|             Dupiaza| 146|  23|  58|  34|NULL|\n",
      "|     Chicken Biryani| 647|  42| 138| 135| 109|\n",
      "+--------------------+----+----+----+----+----+\n",
      "only showing top 20 rows\n",
      "\n"
     ]
    }
   ],
   "source": [
    "sprk.sql(\"\"\"\n",
    "      SELECT `Item Name`, date_format(`Order Date`, 'yyyy') as Year, sum(Quantity) as Amount\n",
    "      FROM orders GROUP BY `Item Name`, Year ORDER BY Year\"\"\").groupBy(\"Item Name\").pivot(\"Year\").sum(\"Amount\").show()"
   ]
  },
  {
   "cell_type": "code",
   "execution_count": null,
   "metadata": {
    "id": "CyhQLIYAMehX"
   },
   "outputs": [],
   "source": []
  }
 ],
 "metadata": {
  "colab": {
   "provenance": [
    {
     "file_id": "1imJcVV9fM8mIP0peeGqsQ2XKXlxduFq1",
     "timestamp": 1740552562451
    }
   ]
  },
  "kernelspec": {
   "display_name": "Python 3",
   "name": "python3"
  },
  "language_info": {
   "name": "python"
  }
 },
 "nbformat": 4,
 "nbformat_minor": 0
}
